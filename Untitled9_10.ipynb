{
  "nbformat": 4,
  "nbformat_minor": 0,
  "metadata": {
    "colab": {
      "provenance": [],
      "authorship_tag": "ABX9TyMirFbpR+cWXRWzBBxHz4on",
      "include_colab_link": true
    },
    "kernelspec": {
      "name": "python3",
      "display_name": "Python 3"
    },
    "language_info": {
      "name": "python"
    }
  },
  "cells": [
    {
      "cell_type": "markdown",
      "metadata": {
        "id": "view-in-github",
        "colab_type": "text"
      },
      "source": [
        "<a href=\"https://colab.research.google.com/github/SujalK96/CSC221_skark005/blob/main/Untitled9_10.ipynb\" target=\"_parent\"><img src=\"https://colab.research.google.com/assets/colab-badge.svg\" alt=\"Open In Colab\"/></a>"
      ]
    },
    {
      "cell_type": "code",
      "execution_count": null,
      "metadata": {
        "id": "BUtUelXJuE_q"
      },
      "outputs": [],
      "source": [
        "#Function 1, \"Reverse a string,\" takes a string as input and returns its reverse."
      ]
    },
    {
      "cell_type": "code",
      "source": [
        "def reverse_string(text):\n",
        "    \"\"\"\n",
        "    Reverse a given string.\n",
        "    \"\"\"\n",
        "    return text[::-1]\n",
        ""
      ],
      "metadata": {
        "colab": {
          "base_uri": "https://localhost:8080/"
        },
        "id": "UKTHzowTwtGd",
        "outputId": "3f36d352-72b8-469d-feba-e35709a2e036"
      },
      "execution_count": 9,
      "outputs": [
        {
          "output_type": "stream",
          "name": "stdout",
          "text": [
            "Input: hello world\n",
            "Reversed: dlrow olleh\n"
          ]
        }
      ]
    },
    {
      "cell_type": "code",
      "source": [
        "def reverse_string(text):\n",
        "    \"\"\"\n",
        "    Reverse a given string.\n",
        "    \"\"\"\n",
        "    return text[::-1]\n",
        "#Test cases\n",
        "assert reverse_string(\"hello\") == \"olleh\"\n",
        "assert reverse_string(\"world\") == \"dlrow\"\n",
        "assert reverse_string(\"\") == \"\"\n",
        "\n",
        "input_text = \"hello world\"\n",
        "reversed_text = reverse_string(input_text)\n",
        "print(\"Input:\", input_text)\n",
        "print(\"Reversed:\", reversed_text)\n"
      ],
      "metadata": {
        "colab": {
          "base_uri": "https://localhost:8080/"
        },
        "id": "cnm3TIDhxDi8",
        "outputId": "ef9fef25-7434-46d5-f08f-bce9aa9b9cf2"
      },
      "execution_count": 10,
      "outputs": [
        {
          "output_type": "stream",
          "name": "stdout",
          "text": [
            "Input: hello world\n",
            "Reversed: dlrow olleh\n"
          ]
        }
      ]
    },
    {
      "cell_type": "code",
      "source": [
        "# Function 2, \"Calculate the factorial of a number,\" accepts an integer input and computes its factorial, returning the result."
      ],
      "metadata": {
        "id": "tHSGXaMvxLxS"
      },
      "execution_count": null,
      "outputs": []
    },
    {
      "cell_type": "code",
      "source": [
        "def factorial(n):\n",
        "    \"\"\"\n",
        "    Calculate the factorial of a given number.\n",
        "    \"\"\"\n",
        "    if n == 0:\n",
        "        return 1\n",
        "    else:\n",
        "        return n * factorial(n - 1)\n"
      ],
      "metadata": {
        "id": "KEBdVAR5xOCQ"
      },
      "execution_count": 5,
      "outputs": []
    },
    {
      "cell_type": "code",
      "source": [
        "def factorial(n):\n",
        "    \"\"\"\n",
        "    Calculate the factorial of a given number.\n",
        "    \"\"\"\n",
        "    if n == 0:\n",
        "        return 1\n",
        "    else:\n",
        "        return n * factorial(n - 1)\n",
        "\n",
        "# Test cases\n",
        "assert factorial(0) == 1\n",
        "assert factorial(1) == 1\n",
        "assert factorial(2) == 2\n",
        "assert factorial(3) == 6\n",
        "assert factorial(4) == 24\n",
        "\n",
        "input_number = 5\n",
        "factorial_result = factorial(input_number)\n",
        "print(\"Factorial of\", input_number, \"is:\", factorial_result)\n"
      ],
      "metadata": {
        "colab": {
          "base_uri": "https://localhost:8080/"
        },
        "id": "SYumaCEAxS4K",
        "outputId": "1ae55010-e3ab-4461-b4dc-caa7ada99d53"
      },
      "execution_count": 12,
      "outputs": [
        {
          "output_type": "stream",
          "name": "stdout",
          "text": [
            "Factorial of 5 is: 120\n"
          ]
        }
      ]
    },
    {
      "cell_type": "code",
      "source": [
        "# Function 3, \"Calculate the nth Fibonacci number,\" takes an integer input representing the position in the Fibonacci sequence and returns the corresponding Fibonacci number."
      ],
      "metadata": {
        "id": "qF0oUNv9xY3w"
      },
      "execution_count": null,
      "outputs": []
    },
    {
      "cell_type": "code",
      "source": [
        "def fibonacci(n):\n",
        "    \"\"\"\n",
        "    Calculate the nth Fibonacci number.\n",
        "    \"\"\"\n",
        "    if n == 0:\n",
        "        return 0\n",
        "    elif n == 1:\n",
        "        return 1\n",
        "    else:\n",
        "        a, b = 0, 1\n",
        "        for _ in range(n - 1):\n",
        "            a, b = b, a + b\n",
        "        return b"
      ],
      "metadata": {
        "id": "fE6ZKmqZxcCN"
      },
      "execution_count": 6,
      "outputs": []
    },
    {
      "cell_type": "code",
      "source": [
        "def fibonacci(n):\n",
        "    \"\"\"\n",
        "    Calculate the nth Fibonacci number.\n",
        "    \"\"\"\n",
        "    if n == 0:\n",
        "        return 0\n",
        "    elif n == 1:\n",
        "        return 1\n",
        "    else:\n",
        "        a, b = 0, 1\n",
        "        for _ in range(n - 1):\n",
        "            a, b = b, a + b\n",
        "        return b\n",
        "\n",
        "# Test cases\n",
        "assert fibonacci(0) == 0\n",
        "assert fibonacci(1) == 1\n",
        "assert fibonacci(2) == 1\n",
        "assert fibonacci(3) == 2\n",
        "assert fibonacci(4) == 3\n",
        "assert fibonacci(5) == 5\n",
        "assert fibonacci(6) == 8\n",
        "assert fibonacci(7) == 13\n",
        "assert fibonacci(8) == 21\n",
        "assert fibonacci(9) == 34\n",
        "\n",
        "input_index = 10\n",
        "fibonacci_result = fibonacci(input_index)\n",
        "print(\"Fibonacci number at index\", input_index, \"is:\", fibonacci_result)"
      ],
      "metadata": {
        "colab": {
          "base_uri": "https://localhost:8080/"
        },
        "id": "sc26AE5pxe0v",
        "outputId": "fe002284-652b-4253-9626-eff1d5ea9ff0"
      },
      "execution_count": 13,
      "outputs": [
        {
          "output_type": "stream",
          "name": "stdout",
          "text": [
            "Fibonacci number at index 10 is: 55\n"
          ]
        }
      ]
    },
    {
      "cell_type": "code",
      "source": [
        "# Function 4, \"Calculate the sum of all even numbers up to n,\" takes an integer input \\( n \\) and returns the sum of all even numbers from 2 to \\( n \\)."
      ],
      "metadata": {
        "id": "Qh0IGsQ11a07"
      },
      "execution_count": null,
      "outputs": []
    },
    {
      "cell_type": "code",
      "source": [
        "def sum_even_numbers(n):\n",
        "    \"\"\"\n",
        "    Calculate the sum of all even numbers up to n.\n",
        "    \"\"\"\n",
        "    return sum(x for x in range(0, n + 1, 2))"
      ],
      "metadata": {
        "id": "xgADCNmN1i2o"
      },
      "execution_count": null,
      "outputs": []
    },
    {
      "cell_type": "code",
      "source": [
        "def sum_even_numbers(n):\n",
        "    \"\"\"\n",
        "    Calculate the sum of all even numbers up to n.\n",
        "    \"\"\"\n",
        "    return sum(x for x in range(0, n + 1, 2))\n",
        "\n",
        "# Test cases\n",
        "assert sum_even_numbers(0) == 0\n",
        "assert sum_even_numbers(1) == 0\n",
        "assert sum_even_numbers(2) == 2\n",
        "assert sum_even_numbers(3) == 2\n",
        "assert sum_even_numbers(4) == 6\n",
        "assert sum_even_numbers(5) == 6\n",
        "assert sum_even_numbers(6) == 12\n",
        "assert sum_even_numbers(7) == 12\n",
        "assert sum_even_numbers(8) == 20\n",
        "assert sum_even_numbers(9) == 20\n",
        "\n",
        "input_number = 10\n",
        "sum_even = sum_even_numbers(input_number)\n",
        "print(\"Sum of even numbers up to\", input_number, \"is:\", sum_even)\n",
        "\n"
      ],
      "metadata": {
        "colab": {
          "base_uri": "https://localhost:8080/"
        },
        "id": "7lmjlTmL1pmZ",
        "outputId": "9e453e52-dda0-4346-a759-6e176fafcc76"
      },
      "execution_count": 14,
      "outputs": [
        {
          "output_type": "stream",
          "name": "stdout",
          "text": [
            "Sum of even numbers up to 10 is: 30\n"
          ]
        }
      ]
    },
    {
      "cell_type": "code",
      "source": [
        "# Function 5, \"Calculate the sum of all numbers in a list,\" accepts a list of numbers as input and returns the sum of all the numbers in the list."
      ],
      "metadata": {
        "id": "w2FsMk2q1yKk"
      },
      "execution_count": null,
      "outputs": []
    },
    {
      "cell_type": "code",
      "source": [
        "def sum_list(numbers):\n",
        "    \"\"\"\n",
        "    Calculate the sum of all numbers in a list.\n",
        "    \"\"\"\n",
        "    return sum(numbers)"
      ],
      "metadata": {
        "id": "GNS6LJT813Zc"
      },
      "execution_count": null,
      "outputs": []
    },
    {
      "cell_type": "code",
      "source": [
        "def sum_list(numbers):\n",
        "    \"\"\"\n",
        "    Calculate the sum of all numbers in a list.\n",
        "    \"\"\"\n",
        "    return sum(numbers)\n",
        "\n",
        "# Test cases\n",
        "assert sum_list([1, 2, 3, 4, 5]) == 15\n",
        "assert sum_list([0, 0, 0, 0, 0]) == 0\n",
        "assert sum_list([1, -2, 3, -4, 5]) == 3\n",
        "\n",
        "input_list = [1, 2, 3, 4, 5]\n",
        "sum_of_list = sum_list(input_list)\n",
        "print(\"Sum of numbers in list\", input_list, \"is:\", sum_of_list)\n"
      ],
      "metadata": {
        "colab": {
          "base_uri": "https://localhost:8080/"
        },
        "id": "BoNB3IR914Th",
        "outputId": "815ceb84-cf31-475a-e1a2-1edbacdb0c3f"
      },
      "execution_count": 15,
      "outputs": [
        {
          "output_type": "stream",
          "name": "stdout",
          "text": [
            "Sum of numbers in list [1, 2, 3, 4, 5] is: 15\n"
          ]
        }
      ]
    },
    {
      "cell_type": "code",
      "source": [
        "# Function 6, \"Find the maximum number in a list,\" takes a list of numbers as input and returns the largest number in the list."
      ],
      "metadata": {
        "id": "giT7Oouu1-IL"
      },
      "execution_count": null,
      "outputs": []
    },
    {
      "cell_type": "code",
      "source": [
        "def max_list(numbers):\n",
        "    \"\"\"\n",
        "    Find the maximum number in a list.\n",
        "    \"\"\"\n",
        "    return max(numbers)"
      ],
      "metadata": {
        "id": "sGMLV9bc2CZ3"
      },
      "execution_count": null,
      "outputs": []
    },
    {
      "cell_type": "code",
      "source": [
        "def max_list(numbers):\n",
        "    \"\"\"\n",
        "    Find the maximum number in a list.\n",
        "    \"\"\"\n",
        "    return max(numbers)\n",
        "\n",
        "# Test cases\n",
        "assert max_list([1, 2, 3, 4, 5]) == 5\n",
        "assert max_list([0, 0, 0, 0, 0]) == 0\n",
        "assert max_list([1, -2, 3, -4, 5]) == 5\n",
        "\n",
        "input_list = [1, 2, 3, 4, 5]\n",
        "max_number = max_list(input_list)\n",
        "print(\"Maximum number in list\", input_list, \"is:\", max_number)\n"
      ],
      "metadata": {
        "colab": {
          "base_uri": "https://localhost:8080/"
        },
        "id": "DNc6JwTs2DDi",
        "outputId": "a0690e2f-0234-422c-e773-436dfdb5ffce"
      },
      "execution_count": 16,
      "outputs": [
        {
          "output_type": "stream",
          "name": "stdout",
          "text": [
            "Maximum number in list [1, 2, 3, 4, 5] is: 5\n"
          ]
        }
      ]
    },
    {
      "cell_type": "code",
      "source": [
        "# Function 7, \"Find the minimum number in a list,\" accepts a list of numbers as input and returns the smallest number in the list."
      ],
      "metadata": {
        "id": "MJZzBag92IP9"
      },
      "execution_count": null,
      "outputs": []
    },
    {
      "cell_type": "code",
      "source": [
        "def min_list(numbers):\n",
        "    \"\"\"\n",
        "    Find the minimum number in a list.\n",
        "    \"\"\"\n",
        "    return min(numbers)"
      ],
      "metadata": {
        "id": "A6XxE5kM2QIg"
      },
      "execution_count": null,
      "outputs": []
    },
    {
      "cell_type": "code",
      "source": [
        "def min_list(numbers):\n",
        "    \"\"\"\n",
        "    Find the minimum number in a list.\n",
        "    \"\"\"\n",
        "    return min(numbers)\n",
        "\n",
        "# Test cases\n",
        "assert min_list([1, 2, 3, 4, 5]) == 1\n",
        "assert min_list([0, 0, 0, 0, 0]) == 0\n",
        "assert min_list([1, -2, 3, -4, 5]) == -4\n",
        "\n",
        "input_list = [1, 2, 3, 4, 5]\n",
        "min_number = min_list(input_list)\n",
        "print(\"Minimum number in list\", input_list, \"is:\", min_number)\n"
      ],
      "metadata": {
        "colab": {
          "base_uri": "https://localhost:8080/"
        },
        "id": "UyqrVMax2Q83",
        "outputId": "a128fdb8-1c9a-499f-8073-2f854eb6473f"
      },
      "execution_count": 17,
      "outputs": [
        {
          "output_type": "stream",
          "name": "stdout",
          "text": [
            "Minimum number in list [1, 2, 3, 4, 5] is: 1\n"
          ]
        }
      ]
    },
    {
      "cell_type": "code",
      "source": [
        "# Function 8, \"Find the average of all numbers in a list,\" takes a list of numbers as input and returns the average (mean) of all the numbers in the list."
      ],
      "metadata": {
        "id": "smHnGKZm2Wn3"
      },
      "execution_count": null,
      "outputs": []
    },
    {
      "cell_type": "code",
      "source": [
        "def average_list(numbers):\n",
        "    \"\"\"\n",
        "    Find the average of all numbers in a list.\n",
        "    \"\"\"\n",
        "    return sum(numbers) / len(numbers)"
      ],
      "metadata": {
        "id": "-LKINDsy2esz"
      },
      "execution_count": null,
      "outputs": []
    },
    {
      "cell_type": "code",
      "source": [
        "def average_list(numbers):\n",
        "    \"\"\"\n",
        "    Find the average of all numbers in a list.\n",
        "    \"\"\"\n",
        "    return sum(numbers) / len(numbers)\n",
        "\n",
        "# Test cases\n",
        "assert average_list([1, 2, 3, 4, 5]) == 3.0\n",
        "assert average_list([0, 0, 0, 0, 0]) == 0.0\n",
        "assert average_list([1, -2, 3, -4, 5]) == 0.6\n",
        "\n",
        "input_list = [1, 2, 3, 4, 5]\n",
        "average_value = average_list(input_list)\n",
        "print(\"Average of numbers in list\", input_list, \"is:\", average_value)\n"
      ],
      "metadata": {
        "colab": {
          "base_uri": "https://localhost:8080/"
        },
        "id": "quT5qmyF2e2L",
        "outputId": "2e550435-e91c-4c01-a6fa-256cb7e2d328"
      },
      "execution_count": 18,
      "outputs": [
        {
          "output_type": "stream",
          "name": "stdout",
          "text": [
            "Average of numbers in list [1, 2, 3, 4, 5] is: 3.0\n"
          ]
        }
      ]
    },
    {
      "cell_type": "code",
      "source": [
        "# Function 9, \"Find the median of all numbers in a list,\" accepts a list of numbers as input and returns the median value, which is the middle value of the sorted list. If the list has an even number of elements, it returns the average of the two middle values."
      ],
      "metadata": {
        "id": "ZnYEQg3Z2qTP"
      },
      "execution_count": null,
      "outputs": []
    },
    {
      "cell_type": "code",
      "source": [
        "def median_list(numbers):\n",
        "    \"\"\"\n",
        "    Find the median of all numbers in a list.\n",
        "    \"\"\"\n",
        "    numbers.sort()\n",
        "    n = len(numbers)\n",
        "    if n % 2 == 0:\n",
        "        return (numbers[n // 2 - 1] + numbers[n // 2]) / 2\n",
        "    else:\n",
        "        return numbers[n // 2]"
      ],
      "metadata": {
        "id": "fSCMZ4uq2rVY"
      },
      "execution_count": null,
      "outputs": []
    },
    {
      "cell_type": "code",
      "source": [
        "def median_list(numbers):\n",
        "    \"\"\"\n",
        "    Find the median of all numbers in a list.\n",
        "    \"\"\"\n",
        "    numbers.sort()\n",
        "    n = len(numbers)\n",
        "    if n % 2 == 0:\n",
        "        return (numbers[n // 2 - 1] + numbers[n // 2]) / 2\n",
        "    else:\n",
        "        return numbers[n // 2]\n",
        "\n",
        "# Test cases\n",
        "assert median_list([1, 2, 3, 4, 5]) == 3.0\n",
        "assert median_list([0, 0, 0, 0, 0]) == 0.0\n",
        "assert median_list([1, -2, 3, -4, 5]) == 1.0\n",
        "\n",
        "input_list = [1, 2, 3, 4, 5]\n",
        "median_value = median_list(input_list)\n",
        "print(\"Median of numbers in list\", input_list, \"is:\", median_value)\n"
      ],
      "metadata": {
        "colab": {
          "base_uri": "https://localhost:8080/"
        },
        "id": "CZq-i6f-2rdS",
        "outputId": "00400d6e-a184-4317-db7c-6a92bb14ba84"
      },
      "execution_count": 20,
      "outputs": [
        {
          "output_type": "stream",
          "name": "stdout",
          "text": [
            "Median of numbers in list [1, 2, 3, 4, 5] is: 3\n"
          ]
        }
      ]
    },
    {
      "cell_type": "code",
      "source": [
        "# Function 10, \"Calculate the area of a circle,\" takes the radius of a circle as input and returns the area of the circle. It uses the formula A = π * r^2, where A is the area and r is the radius."
      ],
      "metadata": {
        "id": "VAhV9l2V27lO"
      },
      "execution_count": null,
      "outputs": []
    },
    {
      "cell_type": "code",
      "source": [
        "def circle_area(radius):\n",
        "    \"\"\"\n",
        "    Calculate the area of a circle given its radius.\n",
        "    \"\"\"\n",
        "    return math.pi * radius ** 2"
      ],
      "metadata": {
        "id": "kbiOSc4N274P"
      },
      "execution_count": 31,
      "outputs": []
    },
    {
      "cell_type": "code",
      "source": [
        "import math\n",
        "\n",
        "def circle_area(radius):\n",
        "    \"\"\"\n",
        "    Calculate the area of a circle given its radius.\n",
        "    \"\"\"\n",
        "    return math.pi * radius ** 2\n",
        "\n",
        "# Test cases\n",
        "assert circle_area(0) == 0\n",
        "assert circle_area(1) == math.pi\n",
        "assert circle_area(2) == 4 * math.pi\n",
        "assert circle_area(3) == 9 * math.pi\n",
        "\n",
        "radius = 5\n",
        "area = circle_area(radius)\n",
        "print(\"Area of circle with radius\", radius, \"is:\", area)\n"
      ],
      "metadata": {
        "colab": {
          "base_uri": "https://localhost:8080/"
        },
        "id": "gbWVLdxK28Mi",
        "outputId": "c921edd7-0952-407e-9d15-c203207ed4f5"
      },
      "execution_count": 30,
      "outputs": [
        {
          "output_type": "stream",
          "name": "stdout",
          "text": [
            "Area of circle with radius 5 is: 78.53981633974483\n"
          ]
        }
      ]
    },
    {
      "cell_type": "code",
      "source": [
        "# Function 11: Solve a puzzle using guess and check"
      ],
      "metadata": {
        "id": "uKRgMeZb-Qpd"
      },
      "execution_count": 33,
      "outputs": []
    },
    {
      "cell_type": "code",
      "source": [
        "def find_square_root(n):\n",
        "    \"\"\"\n",
        "    Find the square root of a positive integer using guess and check.\n",
        "    \"\"\"\n",
        "    guess = n / 2  # Initial guess\n",
        "    while abs(guess * guess - n) > 0.0001:  # Using a small threshold for precision\n",
        "        guess = (guess + n / guess) / 2\n",
        "    return guess"
      ],
      "metadata": {
        "id": "SclK0Ltx-TJF"
      },
      "execution_count": null,
      "outputs": []
    },
    {
      "cell_type": "code",
      "source": [
        "def find_square_root(n):\n",
        "    \"\"\"\n",
        "    Find the square root of a positive integer using guess and check.\n",
        "    \"\"\"\n",
        "    guess = n / 2  # Initial guess\n",
        "    while abs(guess * guess - n) > 0.0001:  # Using a small threshold for precision\n",
        "        guess = (guess + n / guess) / 2\n",
        "    return guess\n",
        "\n",
        "# Test cases\n",
        "assert abs(find_square_root(9) - 3) < 0.0001\n",
        "assert abs(find_square_root(16) - 4) < 0.0001\n",
        "assert abs(find_square_root(25) - 5) < 0.0001\n",
        "\n",
        "numbers_to_find_sqrt = [9, 16, 25]\n",
        "for num in numbers_to_find_sqrt:\n",
        "    sqrt = find_square_root(num)\n",
        "    print(f\"Square root of {num} is approximately: {sqrt}\")\n"
      ],
      "metadata": {
        "colab": {
          "base_uri": "https://localhost:8080/"
        },
        "id": "pFnmjl-Q-TXr",
        "outputId": "3df9afc3-ef7b-4501-d546-c9e20ac2e862"
      },
      "execution_count": 34,
      "outputs": [
        {
          "output_type": "stream",
          "name": "stdout",
          "text": [
            "Square root of 9 is approximately: 3.000015360039322\n",
            "Square root of 16 is approximately: 4.0000001858445895\n",
            "Square root of 25 is approximately: 5.000000000016778\n"
          ]
        }
      ]
    }
  ]
}