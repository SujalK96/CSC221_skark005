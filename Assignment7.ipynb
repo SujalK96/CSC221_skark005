{
  "nbformat": 4,
  "nbformat_minor": 0,
  "metadata": {
    "colab": {
      "provenance": [],
      "authorship_tag": "ABX9TyPZqoHSw6d2kVabVxE7HnUl",
      "include_colab_link": true
    },
    "kernelspec": {
      "name": "python3",
      "display_name": "Python 3"
    },
    "language_info": {
      "name": "python"
    }
  },
  "cells": [
    {
      "cell_type": "markdown",
      "metadata": {
        "id": "view-in-github",
        "colab_type": "text"
      },
      "source": [
        "<a href=\"https://colab.research.google.com/github/SujalK96/CSC221_skark005/blob/main/Assignment7.ipynb\" target=\"_parent\"><img src=\"https://colab.research.google.com/assets/colab-badge.svg\" alt=\"Open In Colab\"/></a>"
      ]
    },
    {
      "cell_type": "code",
      "execution_count": 6,
      "metadata": {
        "colab": {
          "base_uri": "https://localhost:8080/"
        },
        "id": "jRAHY6fI5AsJ",
        "outputId": "514ae83f-2eaf-4501-a38a-d7fa6783d136"
      },
      "outputs": [
        {
          "output_type": "stream",
          "name": "stdout",
          "text": [
            "{'first_name': 'Nitesh', 'last_name': 'Rimal', 'age': '19', 'City': 'Balkot'}\n"
          ]
        }
      ],
      "source": [
        "#TIY 6-1\n",
        "person = {\n",
        "    \"first_name\" : \"Nitesh\",\n",
        "    \"last_name\" :\"Rimal\",\n",
        "    \"age\": \"19\",\n",
        "    \"City\": \"Balkot\"\n",
        "}\n",
        "print(person)"
      ]
    },
    {
      "cell_type": "code",
      "source": [
        "#TIY 6-2\n",
        "fav_number = {\n",
        "    \"Aryan\": 7,\n",
        "    \"Nitesh\": 6,\n",
        "    \"Paul\": 22,\n",
        "    \"Jin\": 2,\n",
        "    \"Ritika\": 9\n",
        "}\n",
        "for i, number in fav_number.items():\n",
        "    print(f\"{i}'s favorite number is {number}.\")"
      ],
      "metadata": {
        "colab": {
          "base_uri": "https://localhost:8080/"
        },
        "id": "yk7FtbrF6JVC",
        "outputId": "5a3f69a7-4a0e-45c7-bbb0-0ab77f25f75a"
      },
      "execution_count": 8,
      "outputs": [
        {
          "output_type": "stream",
          "name": "stdout",
          "text": [
            "Aryan's favorite number is 7.\n",
            "Nitesh's favorite number is 6.\n",
            "Paul's favorite number is 22.\n",
            "Jin's favorite number is 2.\n",
            "Ritika's favorite number is 9.\n"
          ]
        }
      ]
    },
    {
      "cell_type": "code",
      "source": [
        "#TIY 6-3\n",
        "glossary = {\n",
        "    'Variable': 'A container to store data values.',\n",
        "    'Function': 'A block of reusable code that performs a specific task.',\n",
        "    'List': 'An ordered collection of items that can be modified.',\n",
        "    'Conditional Statement': 'A statement that executes different code based on a condition.',\n",
        "    'Loop': 'A control structure that repeats a block of code until a condition is met or for a specified number of times.'\n",
        "}\n",
        "\n",
        "for i, meaning in glossary.items():\n",
        "    print(f\"~ {i}: {meaning}\\n\")"
      ],
      "metadata": {
        "colab": {
          "base_uri": "https://localhost:8080/"
        },
        "id": "tzd63SfT65J-",
        "outputId": "a648ecc7-9fa6-4c23-fce5-0b090597f984"
      },
      "execution_count": 12,
      "outputs": [
        {
          "output_type": "stream",
          "name": "stdout",
          "text": [
            "~ Variable: A container to store data values.\n",
            "\n",
            "~ Function: A block of reusable code that performs a specific task.\n",
            "\n",
            "~ List: An ordered collection of items that can be modified.\n",
            "\n",
            "~ Conditional Statement: A statement that executes different code based on a condition.\n",
            "\n",
            "~ Loop: A control structure that repeats a block of code until a condition is met or for a specified number of times.\n",
            "\n"
          ]
        }
      ]
    },
    {
      "cell_type": "code",
      "source": [
        "#TIY 6-4\n",
        "glossary['Tuple']= 'An ordered, immutable collection of items.'\n",
        "glossary['Dictionary']= 'A collection of key-value pairs where each key maps to a specific value.'\n",
        "glossary['Module']= 'A file containing Python definitions and statements, which can be imported and used in other Python files.'\n",
        "glossary['Class']='A blueprint for creating objects that defines their properties and behaviors.'\n",
        "glossary['Method']='A function defined within a class that operates on objects of that class.'\n",
        "for i, meaning in glossary.items():\n",
        "    print(f\"~{i}:{meaning}\\n\")"
      ],
      "metadata": {
        "colab": {
          "base_uri": "https://localhost:8080/"
        },
        "id": "NLP89ozy7SPt",
        "outputId": "5ce5fb1e-49b5-430d-beeb-0e8a3a26d5c2"
      },
      "execution_count": 15,
      "outputs": [
        {
          "output_type": "stream",
          "name": "stdout",
          "text": [
            "~Variable:A container to store data values.\n",
            "\n",
            "~Function:A block of reusable code that performs a specific task.\n",
            "\n",
            "~List:An ordered collection of items that can be modified.\n",
            "\n",
            "~Conditional Statement:A statement that executes different code based on a condition.\n",
            "\n",
            "~Loop:A control structure that repeats a block of code until a condition is met or for a specified number of times.\n",
            "\n",
            "~Tuple:An ordered, immutable collection of items.\n",
            "\n",
            "~Dictionary:A collection of key-value pairs where each key maps to a specific value.\n",
            "\n",
            "~Module:A file containing Python definitions and statements, which can be imported and used in other Python files.\n",
            "\n",
            "~Class:A blueprint for creating objects that defines their properties and behaviors.\n",
            "\n",
            "~Method:A function defined within a class that operates on objects of that class.\n",
            "\n"
          ]
        }
      ]
    },
    {
      "cell_type": "code",
      "source": [
        "#TIY 6-11\n",
        "cities = {\n",
        "    \"Kathmandu\":{\n",
        "    \"country\":\"Nepal\",\n",
        "    \"population\": \"Approximately 10 million.\",\n",
        "    \"fact\":\"It has UNESCO listed heritage sites.\"\n",
        "    },\n",
        "\n",
        "    'London' : {\n",
        "        'country': 'United Kingdom',\n",
        "        'population': 'Approximately 9 million',\n",
        "        'fact': 'London is home to Big Ben, a famous clock tower.'\n",
        "    },\n",
        "\n",
        "    'New York City': {\n",
        "        'country': 'United States',\n",
        "        'population': 'Approximately 8.4 million',\n",
        "        'fact': 'New York City is known as \"The Big Apple\".'\n",
        "    }\n",
        "}\n",
        "for city, city_info in cities.items():\n",
        "    print(f\"\\nCity: {city}\")\n",
        "    print(f\"Country: {city_info['country']}\")\n",
        "    print(f\"Population: {city_info['population']}\")\n",
        "    print(f\"Fact: {city_info['fact']}\")"
      ],
      "metadata": {
        "colab": {
          "base_uri": "https://localhost:8080/"
        },
        "id": "RSBWkTbc6cO7",
        "outputId": "4001f4cc-e46e-42fa-c3dd-8890ff05cb64"
      },
      "execution_count": 28,
      "outputs": [
        {
          "output_type": "stream",
          "name": "stdout",
          "text": [
            "\n",
            "City: Kathmandu\n",
            "Country: Nepal\n",
            "Population: Approximately 10 million.\n",
            "Fact: It has UNESCO listed heritage sites.\n",
            "\n",
            "City: London\n",
            "Country: United Kingdom\n",
            "Population: Approximately 9 million\n",
            "Fact: London is home to Big Ben, a famous clock tower.\n",
            "\n",
            "City: New York City\n",
            "Country: United States\n",
            "Population: Approximately 8.4 million\n",
            "Fact: New York City is known as \"The Big Apple\".\n"
          ]
        }
      ]
    },
    {
      "cell_type": "code",
      "source": [
        "# Num 2\n",
        "%%file dictionary_of_names\n",
        "kevin, 91\n",
        "ayush, 94\n",
        "bob, 97\n",
        "amy, 89\n",
        "ankita, 97\n",
        "ned, 79\n",
        "timmy, 82"
      ],
      "metadata": {
        "colab": {
          "base_uri": "https://localhost:8080/"
        },
        "id": "wf3nhxpYLnD_",
        "outputId": "a441fce9-8010-4f08-a6d3-1be0cee03ddb"
      },
      "execution_count": 6,
      "outputs": [
        {
          "output_type": "stream",
          "name": "stdout",
          "text": [
            "Overwriting dictionary_of_names\n"
          ]
        }
      ]
    },
    {
      "cell_type": "code",
      "source": [
        "file_content = {\n",
        "    \"names\": {}\n",
        "}\n",
        "\n",
        "with open(\"dictionary_of_names\", \"r\") as fopen:\n",
        "  for line in fopen:\n",
        "    name, grade = line.strip().split(\",\")\n",
        "    file_content[\"names\"][name] = int(grade)\n",
        "\n",
        "print(file_content)"
      ],
      "metadata": {
        "colab": {
          "base_uri": "https://localhost:8080/"
        },
        "id": "ZyEw5vN78fCp",
        "outputId": "2e70c318-9db0-4749-c441-7215020a46ca"
      },
      "execution_count": 27,
      "outputs": [
        {
          "output_type": "stream",
          "name": "stdout",
          "text": [
            "{'names': {'kevin': 91, 'ayush': 94, 'bob': 97, 'amy': 89, 'ankita': 97, 'ned': 79, 'timmy': 82}}\n"
          ]
        }
      ]
    },
    {
      "cell_type": "code",
      "source": [
        "sorted_by_name = dict(sorted(file_content[\"names\"].items()))\n",
        "print(sorted_by_name)"
      ],
      "metadata": {
        "colab": {
          "base_uri": "https://localhost:8080/"
        },
        "id": "VcAX5ncPBe3X",
        "outputId": "74cf6918-e3c3-4f05-f4d8-b14ec9fecc87"
      },
      "execution_count": 31,
      "outputs": [
        {
          "output_type": "stream",
          "name": "stdout",
          "text": [
            "{'amy': 89, 'ankita': 97, 'ayush': 94, 'bob': 97, 'kevin': 91, 'ned': 79, 'timmy': 82}\n"
          ]
        }
      ]
    },
    {
      "cell_type": "code",
      "source": [
        "sorted_by_grade = dict(sorted(file_content[\"names\"].items(), key = lambda item: item[1], reverse=True))\n",
        "print(sorted_by_grade)"
      ],
      "metadata": {
        "colab": {
          "base_uri": "https://localhost:8080/"
        },
        "id": "6hXtr_QFB3fU",
        "outputId": "fbde9114-dee8-4150-9a45-1eb442a320b0"
      },
      "execution_count": 30,
      "outputs": [
        {
          "output_type": "stream",
          "name": "stdout",
          "text": [
            "{'bob': 97, 'ankita': 97, 'ayush': 94, 'kevin': 91, 'amy': 89, 'timmy': 82, 'ned': 79}\n"
          ]
        }
      ]
    }
  ]
}