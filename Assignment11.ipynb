{
  "nbformat": 4,
  "nbformat_minor": 0,
  "metadata": {
    "colab": {
      "provenance": [],
      "authorship_tag": "ABX9TyONFxzb9hm+NmO8a8Ki4FND",
      "include_colab_link": true
    },
    "kernelspec": {
      "name": "python3",
      "display_name": "Python 3"
    },
    "language_info": {
      "name": "python"
    }
  },
  "cells": [
    {
      "cell_type": "markdown",
      "metadata": {
        "id": "view-in-github",
        "colab_type": "text"
      },
      "source": [
        "<a href=\"https://colab.research.google.com/github/SujalK96/CSC221_skark005/blob/main/Assignment11.ipynb\" target=\"_parent\"><img src=\"https://colab.research.google.com/assets/colab-badge.svg\" alt=\"Open In Colab\"/></a>"
      ]
    },
    {
      "cell_type": "code",
      "execution_count": 4,
      "metadata": {
        "colab": {
          "base_uri": "https://localhost:8080/"
        },
        "id": "y9ZQ3snaXcIO",
        "outputId": "414ecaa3-69fc-4dc4-f850-af34b3a8c92f"
      },
      "outputs": [
        {
          "output_type": "stream",
          "name": "stdout",
          "text": [
            "Restaurant Name: Taste of Himalayas\n",
            "Cuisine Type: Nepali\n",
            "The name of the restaurant is Taste Of Himalayas.\n",
            "The type of cuisine Taste Of Himalayas have is Nepali.\n",
            "Taste Of Himalayas is currently open.\n"
          ]
        }
      ],
      "source": [
        "#TIY 9-1\n",
        "class Restaurant():\n",
        "    '''A simple method to make a model of restaurant.'''\n",
        "\n",
        "    def __init__(self, restaurant_name, cuisine_type):\n",
        "        '''It creates an instance of restaurant when class is called.'''\n",
        "        self.restaurant_name = restaurant_name\n",
        "        self.cuisine_type = cuisine_type\n",
        "\n",
        "    def describe_restaurant(self):\n",
        "        print(f\"The name of the restaurant is {self.restaurant_name.title()}.\")\n",
        "        print(f\"The type of cuisine {self.restaurant_name.title()} have is {self.cuisine_type.title()}.\")\n",
        "\n",
        "    def open_restaurant(self):\n",
        "        print(f\"{self.restaurant_name.title()} is currently open.\")\n",
        "\n",
        "\n",
        "restaurant = Restaurant(\"Taste of Himalayas\", \"Nepali\")\n",
        "\n",
        "print(f\"Restaurant Name: {restaurant.restaurant_name}\")\n",
        "print(f\"Cuisine Type: {restaurant.cuisine_type}\")\n",
        "\n",
        "restaurant.describe_restaurant()\n",
        "restaurant.open_restaurant()"
      ]
    },
    {
      "cell_type": "code",
      "source": [
        "#TIY 9-2\n",
        "restaurant1 = Restaurant(\"Italian Spices\", \"Italian\")\n",
        "restaurant2 = Restaurant(\"Taste of Himalayas\", \"Nepali\")\n",
        "restaurant3 = Restaurant(\"Yamasushi\", \"Korean\")\n",
        "\n",
        "# Call describe_restaurant() for each instance\n",
        "restaurant1.describe_restaurant()\n",
        "restaurant2.describe_restaurant()\n",
        "restaurant3.describe_restaurant()"
      ],
      "metadata": {
        "colab": {
          "base_uri": "https://localhost:8080/"
        },
        "id": "Z4G9Rw2CYP0G",
        "outputId": "4802d1c5-9586-4cb2-b5f4-40205d312a8a"
      },
      "execution_count": 6,
      "outputs": [
        {
          "output_type": "stream",
          "name": "stdout",
          "text": [
            "The name of the restaurant is Italian Spices.\n",
            "The type of cuisine Italian Spices have is Italian.\n",
            "The name of the restaurant is Taste Of Himalayas.\n",
            "The type of cuisine Taste Of Himalayas have is Nepali.\n",
            "The name of the restaurant is Yamasushi.\n",
            "The type of cuisine Yamasushi have is Korean.\n"
          ]
        }
      ]
    },
    {
      "cell_type": "code",
      "source": [
        "#TIY 9-3\n",
        "class User():\n",
        "    def __init__(self, first_name, last_name, username, email, location):\n",
        "        self.first_name = first_name\n",
        "        self.last_name = last_name\n",
        "        self.username = username\n",
        "        self.email = email\n",
        "        self.location = location\n",
        "\n",
        "    def describe_user(self):\n",
        "        print(f\"User Profile Information for {self.first_name} {self.last_name}:\")\n",
        "        print(f\"Username: {self.username}\")\n",
        "        print(f\"Email: {self.email}\")\n",
        "        print(f\"Location: {self.location}\")\n",
        "\n",
        "    def greet_user(self):\n",
        "        print(f\"Hello, {self.first_name}! You are most welcome to our platform.\")\n",
        "\n",
        "user1 = User(\"Sujal\", \"Karki\", \"sujal123\", \"sk123@example.com\", \"Nepal\")\n",
        "user2 = User(\"Riri\", \"Karki\", \"Ririr96\", \"bidari@example.com\", \"Morang\")\n",
        "user3 = User(\"Bhupal\", \"Shanta\", \"alicej\", \"bdbd@example.com\", \"Mangalbare\")\n",
        "\n",
        "user1.describe_user()\n",
        "user1.greet_user()\n",
        "\n",
        "user2.describe_user()\n",
        "user2.greet_user()\n",
        "\n",
        "user3.describe_user()\n",
        "user3.greet_user()"
      ],
      "metadata": {
        "colab": {
          "base_uri": "https://localhost:8080/"
        },
        "id": "h1fUaIbOYpwI",
        "outputId": "e56cf2f9-e8af-496f-b2c5-a034d4d313e9"
      },
      "execution_count": 8,
      "outputs": [
        {
          "output_type": "stream",
          "name": "stdout",
          "text": [
            "User Profile Information for Sujal Karki:\n",
            "Username: sujal123\n",
            "Email: sk123@example.com\n",
            "Location: Nepal\n",
            "Hello, Sujal! You are most welcome to our platform.\n",
            "User Profile Information for Riri Karki:\n",
            "Username: Ririr96\n",
            "Email: bidari@example.com\n",
            "Location: Morang\n",
            "Hello, Riri! You are most welcome to our platform.\n",
            "User Profile Information for Bhupal Shanta:\n",
            "Username: alicej\n",
            "Email: bdbd@example.com\n",
            "Location: Mangalbare\n",
            "Hello, Bhupal! You are most welcome to our platform.\n"
          ]
        }
      ]
    },
    {
      "cell_type": "code",
      "source": [
        "#TIY 9-6\n",
        "class IceCreamStand(Restaurant):\n",
        "    '''Let's make a simple Icecream stand.'''\n",
        "\n",
        "    def __init__(self, restaurant_name, cuisine_type, flavors):\n",
        "        super().__init__(restaurant_name, cuisine_type)\n",
        "        self.flavors = flavors\n",
        "\n",
        "    def display_flavors(self):\n",
        "        print(f\"{self.restaurant_name.title()} has more exciting flavors available now. Check it out: \")\n",
        "        for flavor in self.flavors:\n",
        "            print(\"- \", flavor)\n",
        "\n",
        "ice_cream_stand = IceCreamStand(\"Icespice\", \"Ice Cream\", [\"Butterscotch\", \"Vanilla\", \"Blueberry\"])\n",
        "\n",
        "ice_cream_stand.display_flavors()"
      ],
      "metadata": {
        "colab": {
          "base_uri": "https://localhost:8080/"
        },
        "id": "EZRHNYghZWuy",
        "outputId": "364e44ac-d5ec-4d5e-dcad-9f32c7fba2d7"
      },
      "execution_count": 14,
      "outputs": [
        {
          "output_type": "stream",
          "name": "stdout",
          "text": [
            "Icespice has more exciting flavors available now. Check it out: \n",
            "-  Butterscotch\n",
            "-  Vanilla\n",
            "-  Blueberry\n"
          ]
        }
      ]
    },
    {
      "cell_type": "code",
      "source": [
        "# TIY 9-7\n",
        "class Admin(User):\n",
        "    \"\"\"let us create admin for the user class\"\"\"\n",
        "\n",
        "    def __init__(self, first_name, last_name, username, email, location, privileges):\n",
        "        '''Initialize attributes of the parent class.'''\n",
        "        super().__init__(first_name, last_name, username, email, location)\n",
        "        self.privileges = privileges\n",
        "\n",
        "    def show_privileges(self):\n",
        "        print(f\"{self.first_name} {self.last_name} contains following privileges: \")\n",
        "        for privilege in self.privileges:\n",
        "            print(\"-\", privilege)\n",
        "\n",
        "admin = Admin('Sujal', 'Karki', 'sujal123', 'sk123@example.com', 'Nepal',\n",
        "              ['can add post', 'can delete post', 'can ban user'])\n",
        "\n",
        "admin.show_privileges()"
      ],
      "metadata": {
        "colab": {
          "base_uri": "https://localhost:8080/"
        },
        "id": "pyzxXi3gaUF9",
        "outputId": "a73867b8-e169-4b33-edbe-1d8a86b86174"
      },
      "execution_count": 16,
      "outputs": [
        {
          "output_type": "stream",
          "name": "stdout",
          "text": [
            "Sujal Karki contains following privileges: \n",
            "- can add post\n",
            "- can delete post\n",
            "- can ban user\n"
          ]
        }
      ]
    },
    {
      "cell_type": "code",
      "source": [
        "class Dog():\n",
        "    '''In simple way let us model a dog.'''\n",
        "\n",
        "    def __init__(self, name, age):\n",
        "        '''Initialize name and age attributes.'''\n",
        "        self.name = name\n",
        "        self.age = age\n",
        "\n",
        "    def sit(self):\n",
        "        '''Simulate dog sitting in response to a command.'''\n",
        "        print(self.name.title() + \" is now sitting.\")\n",
        "\n",
        "    def roll_over(self):\n",
        "        '''Simulate rolling over in response to a command'''\n",
        "        print(self.name.title() + \" rolled over!\")"
      ],
      "metadata": {
        "id": "7bHssilja8fQ"
      },
      "execution_count": 20,
      "outputs": []
    },
    {
      "cell_type": "code",
      "source": [
        "my_dog = Dog('willie', 6)\n",
        "print(\"My dog's name is \" + my_dog.name.title() + \".\")\n",
        "print(\"My dog is \" + str(my_dog.age) + \" years old.\")\n",
        "my_dog.sit()\n",
        "my_dog.roll_over()"
      ],
      "metadata": {
        "colab": {
          "base_uri": "https://localhost:8080/"
        },
        "id": "8V6L-1vbbQ0s",
        "outputId": "c07bf11e-68ef-4af1-8882-97058cf2e1f6"
      },
      "execution_count": 25,
      "outputs": [
        {
          "output_type": "stream",
          "name": "stdout",
          "text": [
            "My dog's name is Willie.\n",
            "My dog is 6 years old.\n",
            "Willie is now sitting.\n",
            "Willie rolled over!\n"
          ]
        }
      ]
    },
    {
      "cell_type": "code",
      "source": [
        "my_dog = Dog('willie', 6)\n",
        "your_dog = Dog('lucy', 3)\n",
        "\n",
        "print(\"My dog's name is \" + my_dog.name.title() + \".\")\n",
        "print(\"My dog is \" + str(my_dog.age) + \" years old.\")\n",
        "my_dog.sit()\n",
        "\n",
        "print(\"\\nYour dog's name is \" + your_dog.name.title() + \".\")\n",
        "print(\"Your dog is \" + str(your_dog.age) + \" years old.\")\n",
        "your_dog.sit()"
      ],
      "metadata": {
        "colab": {
          "base_uri": "https://localhost:8080/"
        },
        "id": "7FsTkErWb_NT",
        "outputId": "a9e80d2c-ab45-40f7-cbd4-5c023fad8fc0"
      },
      "execution_count": 26,
      "outputs": [
        {
          "output_type": "stream",
          "name": "stdout",
          "text": [
            "My dog's name is Willie.\n",
            "My dog is 6 years old.\n",
            "Willie is now sitting.\n",
            "\n",
            "Your dog's name is Lucy.\n",
            "Your dog is 3 years old.\n",
            "Lucy is now sitting.\n"
          ]
        }
      ]
    },
    {
      "cell_type": "code",
      "source": [
        "#Example code from Cars\n",
        "class Car():\n",
        "    \"\"\"A simple attempt to represent a car.\"\"\"\n",
        "\n",
        "    def __init__(self, make, model, year):\n",
        "        \"\"\"Initialize attributes to describe a car.\"\"\"\n",
        "        self.make = make\n",
        "        self.model = model\n",
        "        self.year = year\n",
        "        self.odometer_reading = 0\n",
        "\n",
        "    def get_descriptive_name(self):\n",
        "        \"\"\"Return a neatly formatted descriptive name.\"\"\"\n",
        "        long_name = str(self.year) + ' ' + self.make + ' ' + self.model\n",
        "        return long_name.title()\n",
        "\n",
        "    def read_odometer(self):\n",
        "        \"\"\"Print a statement showing the car's mileage.\"\"\"\n",
        "        print(\"This car has \" + str(self.odometer_reading) + \" miles on it.\")\n",
        "\n",
        "    def update_odometer(self, mileage):\n",
        "        \"\"\"\n",
        "        Set the odometer reading to the given value.\n",
        "        Reject the change if it attempts to roll the odometer back.\n",
        "        \"\"\"\n",
        "        if mileage >= self.odometer_reading:\n",
        "            self.odometer_reading = mileage\n",
        "        else:\n",
        "            print(\"You can't roll back an odometer!\")\n",
        "\n",
        "    def increment_odometer(self, miles):\n",
        "        \"\"\"Add the given amount to the odometer reading.\"\"\"\n",
        "        self.odometer_reading += miles\n",
        "\n",
        "my_new_car = Car('audi', 'a4', 2016)\n",
        "print(my_new_car.get_descriptive_name())\n",
        "my_new_car.read_odometer()\n",
        "\n",
        "my_new_car.update_odometer(23)\n",
        "my_new_car.read_odometer()\n",
        "\n",
        "my_used_car = Car('subaru', 'outback', 2013)\n",
        "print(my_used_car.get_descriptive_name())\n",
        "\n",
        "my_used_car.update_odometer(23500)\n",
        "my_used_car.read_odometer()\n",
        "\n",
        "my_used_car.increment_odometer(100)\n",
        "my_used_car.read_odometer()"
      ],
      "metadata": {
        "colab": {
          "base_uri": "https://localhost:8080/"
        },
        "id": "s7BLxBW0cN5x",
        "outputId": "5121f726-ef51-4a71-a583-3c063ee255af"
      },
      "execution_count": 27,
      "outputs": [
        {
          "output_type": "stream",
          "name": "stdout",
          "text": [
            "2016 Audi A4\n",
            "This car has 0 miles on it.\n",
            "This car has 23 miles on it.\n",
            "2013 Subaru Outback\n",
            "This car has 23500 miles on it.\n",
            "This car has 23600 miles on it.\n"
          ]
        }
      ]
    },
    {
      "cell_type": "code",
      "source": [
        "class Battery():\n",
        "    \"\"\"A simple attempt to model a battery for an electric car.\"\"\"\n",
        "\n",
        "    def __init__(self, battery_size=70):\n",
        "        \"\"\"Initialize the battery's attributes.\"\"\"\n",
        "        self.battery_size = battery_size\n",
        "\n",
        "    def describe_battery(self):\n",
        "        \"\"\"Print a statement describing the battery size.\"\"\"\n",
        "        print(\"This car has a \" + str(self.battery_size) + \"-kWh battery.\")\n",
        "\n",
        "    def get_range(self):\n",
        "        \"\"\"Print a statement about the range this battery provides.\"\"\"\n",
        "        if self.battery_size == 70:\n",
        "            range = 240\n",
        "        elif self.battery_size == 85:\n",
        "            range = 270\n",
        "\n",
        "        message = \"This car can go approximately \" + str(range)\n",
        "        message += \" miles on a full charge.\"\n",
        "        print(message)\n",
        "\n",
        "class ElectricCar(Car):\n",
        "    \"\"\"Represent aspects of a car, specific to electric vehicles.\"\"\"\n",
        "    def __init__(self, make, model, year):\n",
        "        \"\"\"\n",
        "        Initialize attributes of the parent class.\n",
        "        Then initialize attributes specific to an electric car.\n",
        "        \"\"\"\n",
        "        super().__init__(make, model, year)\n",
        "        self.battery = Battery()\n",
        "\n",
        "    def fill_gas_tank():\n",
        "        \"\"\"Electric cars don't have gas tanks.\"\"\"\n",
        "        print(\"This car doesn't need a gas tank!\")\n",
        "\n",
        "my_tesla = ElectricCar('tesla', 'model s', 2016)\n",
        "\n",
        "print(my_tesla.get_descriptive_name())\n",
        "my_tesla.battery.describe_battery()\n",
        "my_tesla.battery.get_range()"
      ],
      "metadata": {
        "colab": {
          "base_uri": "https://localhost:8080/"
        },
        "id": "qji08IVUcXSS",
        "outputId": "a4bcd2d2-d22e-4fd1-9819-7113a974cb8f"
      },
      "execution_count": 28,
      "outputs": [
        {
          "output_type": "stream",
          "name": "stdout",
          "text": [
            "2016 Tesla Model S\n",
            "This car has a 70-kWh battery.\n",
            "This car can go approximately 240 miles on a full charge.\n"
          ]
        }
      ]
    }
  ]
}