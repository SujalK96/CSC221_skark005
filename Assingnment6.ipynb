{
  "nbformat": 4,
  "nbformat_minor": 0,
  "metadata": {
    "colab": {
      "provenance": [],
      "authorship_tag": "ABX9TyPAMHn8bwyCDuTSyFqwwBZn",
      "include_colab_link": true
    },
    "kernelspec": {
      "name": "python3",
      "display_name": "Python 3"
    },
    "language_info": {
      "name": "python"
    }
  },
  "cells": [
    {
      "cell_type": "markdown",
      "metadata": {
        "id": "view-in-github",
        "colab_type": "text"
      },
      "source": [
        "<a href=\"https://colab.research.google.com/github/SujalK96/CSC221_skark005/blob/main/Assingnment6.ipynb\" target=\"_parent\"><img src=\"https://colab.research.google.com/assets/colab-badge.svg\" alt=\"Open In Colab\"/></a>"
      ]
    },
    {
      "cell_type": "code",
      "execution_count": 13,
      "metadata": {
        "colab": {
          "base_uri": "https://localhost:8080/"
        },
        "id": "RVOYH5frDH3E",
        "outputId": "d6860d75-919d-47a9-c449-7dc42ca72dd0"
      },
      "outputs": [
        {
          "output_type": "stream",
          "name": "stdout",
          "text": [
            "\n",
            "Is car == 'Hyundai'? I predict True.\n",
            "True\n",
            "\n",
            "Is bike == 'kawasaki'? I predict True.\n",
            "True\n",
            "\n",
            "Is car2 == 'Honda'? I predict True.\n",
            "True\n",
            "\n",
            "Is car == 'BMW'? I predict False.\n",
            "False\n",
            "\n",
            "Is bike == 'subaru'? I predict False.\n",
            "False\n",
            "\n",
            "Is car2 == 'ford'? I predict False.\n",
            "False\n",
            "\n",
            "Is car1 != 'Toyota'? I predict True.\n",
            "True\n",
            "\n",
            "Is 'Hyu' in car? I predict True.\n",
            "True\n",
            "\n",
            "Is 'limo' in bike? I predict False.\n",
            "False\n",
            "\n",
            "Is 'Toy' in car1? I predict False.\n",
            "False\n"
          ]
        }
      ],
      "source": [
        "#TIY 5-1\n",
        "car = 'Hyundai'\n",
        "bike = 'kawasaki'\n",
        "car1 = 'Honda'\n",
        "\n",
        "print(\"\\nIs car == 'Hyundai'? I predict True.\")\n",
        "print(car == 'Hyundai')\n",
        "\n",
        "print(\"\\nIs bike == 'kawasaki'? I predict True.\")\n",
        "print(bike == 'kawasaki')\n",
        "\n",
        "print(\"\\nIs car2 == 'Honda'? I predict True.\")\n",
        "print(car1 == 'Honda')\n",
        "\n",
        "print(\"\\nIs car == 'BMW'? I predict False.\")\n",
        "print(car == 'BMW')\n",
        "\n",
        "print(\"\\nIs bike == 'subaru'? I predict False.\")\n",
        "print(bike == 'subaru')\n",
        "\n",
        "print(\"\\nIs car2 == 'ford'? I predict False.\")\n",
        "print(car1 == 'ford')\n",
        "\n",
        "print(\"\\nIs car1 != 'Toyota'? I predict True.\")\n",
        "print(car1 != 'Toyota')\n",
        "\n",
        "print(\"\\nIs 'Hyu' in car? I predict True.\")\n",
        "print('Hyu' in car)\n",
        "\n",
        "print(\"\\nIs 'limo' in bike? I predict False.\")\n",
        "print('limo' in bike)\n",
        "\n",
        "print(\"\\nIs 'Toy' in car1? I predict False.\")\n",
        "print('Toy' in car1)\n"
      ]
    },
    {
      "cell_type": "code",
      "source": [
        "#TIY 5-2\n",
        "\n",
        "car = ['subaru', 'ford', 'toyota', 'HONDA', 'hundai', 'mitsubishi', 'BMW']\n",
        "if car[1] == 'ford':\n",
        "  print(\"Yes, it's ford!!!\")\n",
        "\n",
        "if car[0] != 'BMW':\n",
        "  print(\"It's not BMW\")\n",
        "\n",
        "if car[3].lower() == 'HONDA':\n",
        "  print(\"It's a honda!!!\")\n",
        "\n",
        "age = 25\n",
        "if age > 18:\n",
        "  print(\"Yayy! You can vote.\")\n",
        "else:\n",
        "  print(\"Sorry!You cannot vote.\")\n",
        "\n",
        "if age > 18 or age == 18:\n",
        "  print(\"Can vote.\")\n",
        "\n",
        "print('toyota' in car)\n",
        "print('gmc' not in car)"
      ],
      "metadata": {
        "colab": {
          "base_uri": "https://localhost:8080/"
        },
        "id": "ZEoLIOETEFYB",
        "outputId": "002b9da4-592e-4928-cf14-f09943d6d763"
      },
      "execution_count": 21,
      "outputs": [
        {
          "output_type": "stream",
          "name": "stdout",
          "text": [
            "Yes, it's ford!!!\n",
            "It's not BMW\n",
            "Yayy! You can vote.\n",
            "Can vote.\n",
            "True\n",
            "True\n"
          ]
        }
      ]
    },
    {
      "cell_type": "code",
      "source": [
        "#5-3\n",
        "alien_color = ['green', 'yellow', 'red']\n",
        "if 'green'  in alien_color:\n",
        "  print(\"Congrats!!! You earned 5 points.\")\n",
        "else:\n",
        "    print(\"Oops! No points earned.\")"
      ],
      "metadata": {
        "colab": {
          "base_uri": "https://localhost:8080/"
        },
        "id": "ih-tu4hfHyM2",
        "outputId": "a2d44543-15b2-4c65-9cb6-8e44e9bdd74f"
      },
      "execution_count": 25,
      "outputs": [
        {
          "output_type": "stream",
          "name": "stdout",
          "text": [
            "Congrats!!! You earned 5 points.\n"
          ]
        }
      ]
    },
    {
      "cell_type": "code",
      "source": [
        "#5-6\n",
        "age = 67\n",
        "if age<2:\n",
        "  print(\"The person is baby.\")\n",
        "elif 2<= age <4:\n",
        "  print(\"The person is a toddler.\")\n",
        "elif 4<= age < 13:\n",
        "  print(\"The person is a kid.\")\n",
        "elif 13<= age < 20:\n",
        "  print(\"The person is a teenager.\")\n",
        "elif 20<= age <65:\n",
        "  print(\"The person is an adult.\")\n",
        "else:\n",
        "  print(\"The person is an elder.\")\n",
        "\n",
        "\n",
        "\n",
        "\n"
      ],
      "metadata": {
        "colab": {
          "base_uri": "https://localhost:8080/"
        },
        "id": "__TuUehLIp05",
        "outputId": "60939284-ad8b-45de-d15f-bf6585cbdfbc"
      },
      "execution_count": 44,
      "outputs": [
        {
          "output_type": "stream",
          "name": "stdout",
          "text": [
            "The person is an elder.\n"
          ]
        }
      ]
    },
    {
      "cell_type": "code",
      "source": [
        "#5-12\n",
        "#Reviewed and styled my conditional tests appropriately."
      ],
      "metadata": {
        "id": "ZWBx-4iGLP2e"
      },
      "execution_count": null,
      "outputs": []
    },
    {
      "cell_type": "code",
      "source": [
        "print(\"Password Strength Checker\")\n",
        "print(\"Your password should be at least 8 characters long.\")\n",
        "print(\"Your password should have at least 1 uppercase letter, 1 lowercase letter, 1 digit, and no spaces.\")\n",
        "\n",
        "user_entered_password = input(\"Enter a password to check: \")\n",
        "\n",
        "# check if the password has at least 8 characters.\n",
        "if len(user_entered_password) < 8:\n",
        "    print(\"Your password should be at least 8 characters long\")\n",
        "else:\n",
        "    has_upper = any(char.isupper() for char in user_entered_password)\n",
        "    has_lower = any(char.islower() for char in user_entered_password)\n",
        "    has_digit = any(char.isdigit() for char in user_entered_password)\n",
        "    has_space = ' ' in user_entered_password\n",
        "\n",
        "    # checks if all conditions are met\n",
        "    if has_upper and has_lower and has_digit and not has_space:\n",
        "        print(\"Your password is strong and secure!\")\n",
        "    else:\n",
        "        print(\"Your password is weak. Please make sure it meets all the requirements.\")\n"
      ],
      "metadata": {
        "colab": {
          "base_uri": "https://localhost:8080/"
        },
        "id": "LHSLgLLzLi7b",
        "outputId": "9992bad1-7416-4cf7-e65f-3c7f7e0413b1"
      },
      "execution_count": 49,
      "outputs": [
        {
          "output_type": "stream",
          "name": "stdout",
          "text": [
            "Password Strength Checker\n",
            "Your password should be at least 8 characters long.\n",
            "Your password should have at least 1 uppercase letter, 1 lowercase letter, 1 digit, and no spaces.\n",
            "Enter a password to check: sujal]\n",
            "Your password should be at least 8 characters long\n"
          ]
        }
      ]
    },
    {
      "cell_type": "code",
      "source": [
        "# 5.13\n",
        "''' Check if the password entered by the user is valid and strong\n",
        "there will be 8 character in password which have 1 uppercase, 1 lowercase,\n",
        "1 letter and 1 special character. '''\n",
        "\n",
        "\n",
        "print(\"Password Strength Checker\")\n",
        "print(\"Your password should be 8 characters long.\")\n",
        "print(\"Your password should have at least 1 uppercase, lowercase, number and special character\")\n",
        "user_entered_password = input(\"Enter a password to check strength \")\n",
        "\n",
        "# check if the password has at least 8 characters.\n",
        "if len(user_entered_password) < 8:\n",
        "  print(\"Your password should be at least 8 characters long\")\n",
        "else:\n",
        "  has_upper = False # variable to check uppercase\n",
        "  has_lower = False # variable to check lowercase\n",
        "  has_digit = False # variable to check digit\n",
        "  has_special = False # variable to check special characters\n",
        "\n",
        "  for char in user_entered_password:\n",
        "    # checks all the conditions in the string. if yes returns true.\n",
        "    if char.isupper():\n",
        "      has_upper = True\n",
        "    elif char.islower():\n",
        "      has_lower = True\n",
        "    elif char.isdigit():\n",
        "      has_digit = True\n",
        "    elif char in \"!@#$%^&*()?\":\n",
        "      has_special = True\n",
        "\n",
        "  # checks if all conditions are met\n",
        "  if has_upper and has_lower and has_digit and has_special:\n",
        "    print(\"Your password is strong and secure! Well done:)\")\n",
        "  else:\n",
        "    print(\"Choose a different password\")\n"
      ],
      "metadata": {
        "colab": {
          "base_uri": "https://localhost:8080/"
        },
        "id": "22T52nRJPXjm",
        "outputId": "e0b95396-9dc0-44b6-c10c-3e1683336ae1"
      },
      "execution_count": 52,
      "outputs": [
        {
          "output_type": "stream",
          "name": "stdout",
          "text": [
            "Password Strength Checker\n",
            "Your password should be 8 characters long.\n",
            "Your password should have at least 1 uppercase, lowercase, number and special character\n",
            "Enter a password to check strength Sujal@k123\n",
            "Your password is strong and secure! Well done:)\n"
          ]
        }
      ]
    }
  ]
}