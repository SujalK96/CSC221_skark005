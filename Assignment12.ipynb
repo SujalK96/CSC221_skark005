{
  "nbformat": 4,
  "nbformat_minor": 0,
  "metadata": {
    "colab": {
      "provenance": [],
      "authorship_tag": "ABX9TyPPzfRRgyq/nfCZIWRJMCZg",
      "include_colab_link": true
    },
    "kernelspec": {
      "name": "python3",
      "display_name": "Python 3"
    },
    "language_info": {
      "name": "python"
    }
  },
  "cells": [
    {
      "cell_type": "markdown",
      "metadata": {
        "id": "view-in-github",
        "colab_type": "text"
      },
      "source": [
        "<a href=\"https://colab.research.google.com/github/SujalK96/CSC221_skark005/blob/main/Assignment12.ipynb\" target=\"_parent\"><img src=\"https://colab.research.google.com/assets/colab-badge.svg\" alt=\"Open In Colab\"/></a>"
      ]
    },
    {
      "cell_type": "code",
      "execution_count": 11,
      "metadata": {
        "colab": {
          "base_uri": "https://localhost:8080/"
        },
        "id": "CF5x2b8gdFeB",
        "outputId": "4843e797-b1bc-481f-edd6-bff1b6bc53fa"
      },
      "outputs": [
        {
          "output_type": "stream",
          "name": "stdout",
          "text": [
            " 36.51 is the total amount of money in wallet1.\n",
            "\n",
            "Wallet1 contains:\n",
            "1\n",
            "5\n",
            "10\n",
            "20\n",
            "0.01\n",
            "0.05\n",
            "0.1\n",
            "0.1\n",
            "0.25\n"
          ]
        }
      ],
      "source": [
        "class Money():\n",
        "    def __init__(self, value):\n",
        "        self.value = value\n",
        "\n",
        "class Bills(Money):\n",
        "    pass\n",
        "\n",
        "class Coins(Money):\n",
        "    pass\n",
        "\n",
        "class One(Bills):\n",
        "    def __init__(self):\n",
        "        super().__init__(1)\n",
        "\n",
        "class Five(Bills):\n",
        "    def __init__(self):\n",
        "        super().__init__(5)\n",
        "\n",
        "class Ten(Bills):\n",
        "    def __init__(self):\n",
        "        super().__init__(10)\n",
        "\n",
        "class Twenty(Bills):\n",
        "    def __init__(self):\n",
        "        super().__init__(20)\n",
        "\n",
        "class Penny(Coins):\n",
        "    def __init__(self):\n",
        "        super().__init__(0.01)\n",
        "\n",
        "class Nickel(Coins):\n",
        "    def __init__(self):\n",
        "        super().__init__(0.05)\n",
        "\n",
        "class Dime(Coins):\n",
        "    def __init__(self):\n",
        "        super().__init__(0.10)\n",
        "\n",
        "class Quarter(Coins):\n",
        "    def __init__(self):\n",
        "        super().__init__(0.25)\n",
        "\n",
        "wallet1 = [One(), Five(), Ten(),Twenty(), Penny(), Nickel(), Dime(), Dime(), Quarter()]\n",
        "\n",
        "total = 0\n",
        "for money in wallet1:\n",
        "    total += money.value\n",
        "\n",
        "print(f\"{total: .2f} is the total amount of money in wallet1.\")\n",
        "\n",
        "print(\"\\nWallet1 contains:\")\n",
        "for money in wallet1:\n",
        "    print(f\"{money.value}\")"
      ]
    },
    {
      "cell_type": "code",
      "source": [
        "wallet2 = [One(), Five(), Ten(), Twenty(), Penny(), Nickel(), Dime(), Quarter()]\n",
        "\n",
        "total = 0\n",
        "for money in wallet2:\n",
        "    total += money.value\n",
        "\n",
        "print(f\"{total:.2f} is the total amount of money in wallet2.\")\n",
        "\n",
        "print(\"\\nWallet2 contains:\")\n",
        "for money in wallet2:\n",
        "    print(f\"{money.value}\")"
      ],
      "metadata": {
        "colab": {
          "base_uri": "https://localhost:8080/"
        },
        "id": "hCEc11X3f_6O",
        "outputId": "bb80eea9-d623-4562-8f7a-ef87d609bbd5"
      },
      "execution_count": 4,
      "outputs": [
        {
          "output_type": "stream",
          "name": "stdout",
          "text": [
            "40.41 is the total amount of money in wallet2.\n",
            "\n",
            "Wallet2 contains:\n",
            "5\n",
            "2\n",
            "11\n",
            "22\n",
            "0.01\n",
            "0.05\n",
            "0.1\n",
            "0.25\n"
          ]
        }
      ]
    },
    {
      "cell_type": "code",
      "source": [
        "wallet3 = [One(), One(), Five(), Ten(), Twenty(), Penny(),\n",
        "           Nickel(), Dime(), Dime(), Quarter(), Quarter()]\n",
        "\n",
        "total = 0\n",
        "for money in wallet3:\n",
        "    total += money.value\n",
        "\n",
        "print(f\"{total: .2f} is the total amount of money in wallet3.\")\n",
        "\n",
        "print(\"\\nWallet3 contains:\")\n",
        "for money in wallet3:\n",
        "    print(f\"{money.value}\")"
      ],
      "metadata": {
        "colab": {
          "base_uri": "https://localhost:8080/"
        },
        "id": "USlREXfVhEjY",
        "outputId": "e78a1936-23f9-42ab-8fe7-ea26e841c7cb"
      },
      "execution_count": 12,
      "outputs": [
        {
          "output_type": "stream",
          "name": "stdout",
          "text": [
            " 37.76 is the total amount of money in wallet3.\n",
            "\n",
            "Wallet3 contains:\n",
            "1\n",
            "1\n",
            "5\n",
            "10\n",
            "20\n",
            "0.01\n",
            "0.05\n",
            "0.1\n",
            "0.1\n",
            "0.25\n",
            "0.25\n"
          ]
        }
      ]
    },
    {
      "cell_type": "code",
      "source": [
        "#Add another thing\n",
        "class Client():\n",
        "    \"\"\"Represents the client's identity\"\"\"\n",
        "    def __init__(self, client_name, client_email):\n",
        "        '''Initializes the client's name and email.'''\n",
        "        self.client_name = client_name\n",
        "        self.client_email = client_email\n",
        "\n",
        "class Item():\n",
        "    '''Defines an item.'''\n",
        "    def __init__(self, item_name, item_price):\n",
        "        '''Initializes with the name and price of the item.'''\n",
        "        self.item_name = item_name\n",
        "        self.item_price = item_price\n",
        "\n",
        "class Purchase():\n",
        "    '''Represents a purchase.'''\n",
        "    def __init__(self, client):\n",
        "        self.client = client\n",
        "        self.items = []\n",
        "\n",
        "    def add_item(self, item, quantity):\n",
        "        '''Adds item and quantity to the purchase.'''\n",
        "        self.items.append((item, quantity))\n",
        "\n",
        "    def calculate_total(self):\n",
        "        '''Calculates the total price for the purchase'''\n",
        "        total = 0\n",
        "        for item, quantity in self.items:\n",
        "            total += item.item_price * quantity\n",
        "\n",
        "        return total\n",
        "\n",
        "class OnlinePurchase(Purchase):\n",
        "    '''Represents an online purchase, derived from the Purchase class'''\n",
        "    def __init__(self, client, shipping_address):\n",
        "        '''Initializes with the parameters of the Purchase class'''\n",
        "        super().__init__(client)\n",
        "        self.shipping_address = shipping_address\n",
        "\n",
        "class InStorePurchase(Purchase):\n",
        "    '''Represents an in-store purchase, derived from the Purchase class'''\n",
        "    def __init__(self, client, sales_person, payment_method):\n",
        "        '''Initializes with the parameters of the Purchase class'''\n",
        "        super().__init__(client)\n",
        "        self.sales_person = sales_person\n",
        "        self.payment_method = payment_method\n",
        "\n",
        "# Example usage\n",
        "\n",
        "client1 = Client('Jane Smith', 'jane@email.com')\n",
        "\n",
        "mango = Item('Mango', 1.29)\n",
        "pear = Item('Pear', 0.89)\n",
        "\n",
        "print(\"\\nOnline purchase:\")\n",
        "purchase = OnlinePurchase(client1, '456 Elm St')\n",
        "purchase.add_item(mango, 3)\n",
        "purchase.add_item(pear, 4)\n",
        "print(f\"Purchase for: {purchase.client.client_name} ({purchase.client.client_email})\")\n",
        "print(f\"Shipping to: {purchase.shipping_address}\")\n",
        "print(f\"Total: {purchase.calculate_total()}\")\n",
        "\n",
        "print(\"\\nIn-store purchase:\")\n",
        "purchase = InStorePurchase(client1, 'John', 'Debit card')\n",
        "purchase.add_item(mango, 2)\n",
        "purchase.add_item(pear, 5)\n",
        "print(f\"Purchase for: {purchase.client.client_name} ({purchase.client.client_email})\")\n",
        "print(f\"Sales person: {purchase.sales_person}\")\n",
        "print(f\"Payment method: {purchase.payment_method}\")\n",
        "print(f\"Total: {purchase.calculate_total()}\")\n",
        "\n",
        "\n",
        "client2 = Client(\"Adam\", \"adam@gmail.com\")\n",
        "\n",
        "pineapple = Item(\"Pineapple\", 3.49)\n",
        "beef = Item(\"Beef\", 12.99)\n",
        "\n",
        "print(\"\\nOnline Purchase: \")\n",
        "purchase2 = OnlinePurchase(client2, \"789 Oak St\")\n",
        "purchase2.add_item(pineapple, 4)\n",
        "purchase2.add_item(beef, 3)\n",
        "print(f\"Purchase for: {purchase2.client.client_name} ({purchase2.client.client_email})\")\n",
        "print(f\"Shipping to: {purchase2.shipping_address}\")\n",
        "print(f\"Total: {purchase2.calculate_total()}\")\n"
      ],
      "metadata": {
        "colab": {
          "base_uri": "https://localhost:8080/"
        },
        "id": "9pGgTGgnhL7G",
        "outputId": "1f8aec06-eb95-409a-934a-dc172139b899"
      },
      "execution_count": 14,
      "outputs": [
        {
          "output_type": "stream",
          "name": "stdout",
          "text": [
            "\n",
            "Online purchase:\n",
            "Purchase for: Jane Smith (jane@email.com)\n",
            "Shipping to: 456 Elm St\n",
            "Total: 7.43\n",
            "\n",
            "In-store purchase:\n",
            "Purchase for: Jane Smith (jane@email.com)\n",
            "Sales person: John\n",
            "Payment method: Debit card\n",
            "Total: 7.03\n",
            "\n",
            "Online Purchase: \n",
            "Purchase for: Adam (adam@gmail.com)\n",
            "Shipping to: 789 Oak St\n",
            "Total: 52.93\n"
          ]
        }
      ]
    }
  ]
}