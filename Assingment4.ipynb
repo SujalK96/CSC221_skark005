{
  "nbformat": 4,
  "nbformat_minor": 0,
  "metadata": {
    "colab": {
      "provenance": [],
      "authorship_tag": "ABX9TyPUh7SoUtxc5G53Jodk1pcY",
      "include_colab_link": true
    },
    "kernelspec": {
      "name": "python3",
      "display_name": "Python 3"
    },
    "language_info": {
      "name": "python"
    }
  },
  "cells": [
    {
      "cell_type": "markdown",
      "metadata": {
        "id": "view-in-github",
        "colab_type": "text"
      },
      "source": [
        "<a href=\"https://colab.research.google.com/github/SujalK96/CSC221_skark005/blob/main/Assingment4.ipynb\" target=\"_parent\"><img src=\"https://colab.research.google.com/assets/colab-badge.svg\" alt=\"Open In Colab\"/></a>"
      ]
    },
    {
      "cell_type": "code",
      "execution_count": 4,
      "metadata": {
        "colab": {
          "base_uri": "https://localhost:8080/"
        },
        "id": "k3LAadqOuTGB",
        "outputId": "68ef5b64-9a98-4774-d732-767a461cb00b"
      },
      "outputs": [
        {
          "output_type": "stream",
          "name": "stdout",
          "text": [
            "Aryan\n",
            "Nitesh\n",
            "Aadarsha\n",
            "Trevor\n",
            "Ayush\n"
          ]
        }
      ],
      "source": [
        "#TIY 3-1\n",
        "names = [\"Aryan\",\"Nitesh\",\"Aadarsha\",\"Trevor\",\"Ayush\"]\n",
        "for i in names:\n",
        "  print (i)"
      ]
    },
    {
      "cell_type": "code",
      "source": [
        "#TIY 3-2\n",
        "names = [\"Aryan\",\"Nitesh\",\"Aadarsha\",\"Trevor\",\"Ayush\"]\n",
        "for i in names:\n",
        "  print (\"You all are great friend to me \" + (i) + \". Thankyou!\")"
      ],
      "metadata": {
        "colab": {
          "base_uri": "https://localhost:8080/"
        },
        "id": "F0X9Ao4-wWdx",
        "outputId": "53bfcb29-f873-42ce-96e3-73e0488752ce"
      },
      "execution_count": 13,
      "outputs": [
        {
          "output_type": "stream",
          "name": "stdout",
          "text": [
            "You all are great friend to me Aryan. Thankyou!\n",
            "You all are great friend to me Nitesh. Thankyou!\n",
            "You all are great friend to me Aadarsha. Thankyou!\n",
            "You all are great friend to me Trevor. Thankyou!\n",
            "You all are great friend to me Ayush. Thankyou!\n"
          ]
        }
      ]
    },
    {
      "cell_type": "code",
      "source": [
        "#TIY 3-3\n",
        "bike_names = [\"Honda\", \"Suzuki\", \"Yamaha\", \"Harley Davidson\"]\n",
        "for i in bike_names:\n",
        "  print (\"I would like to own a \" + (i)+ \" motorcycle.\")\n"
      ],
      "metadata": {
        "colab": {
          "base_uri": "https://localhost:8080/"
        },
        "id": "BhFT6Rq8yCQD",
        "outputId": "96618a0a-f63d-47f8-95bf-f320bf3ea911"
      },
      "execution_count": 16,
      "outputs": [
        {
          "output_type": "stream",
          "name": "stdout",
          "text": [
            "I would like to own a Honda motorcycle.\n",
            "I would like to own a Suzuki motorcycle.\n",
            "I would like to own a Yamaha motorcycle.\n",
            "I would like to own a Harley Davidson motorcycle.\n"
          ]
        }
      ]
    },
    {
      "cell_type": "code",
      "source": [
        "#TIY 3-4\n",
        "dinner_invites = [\"Ram\",\"Shyam\",\"Sam\",\"Chico\"]\n",
        "for i in dinner_invites:\n",
        "  print ( \"Hello \" + (i) + \", you are invited to the dinner.\")"
      ],
      "metadata": {
        "colab": {
          "base_uri": "https://localhost:8080/"
        },
        "id": "CRQk7C6zzbn9",
        "outputId": "e30804cf-4993-4720-91b3-bafbfbe31b45"
      },
      "execution_count": 22,
      "outputs": [
        {
          "output_type": "stream",
          "name": "stdout",
          "text": [
            "Hello Ram, you are invited to the dinner.\n",
            "Hello Shyam, you are invited to the dinner.\n",
            "Hello Sam, you are invited to the dinner.\n",
            "Hello Chico, you are invited to the dinner.\n"
          ]
        }
      ]
    },
    {
      "cell_type": "code",
      "source": [
        "#TIY 3-5\n",
        "dinner_invites = [\"Ram\",\"Shyam\",\"Sam\",\"Chico\"]\n",
        "for i in dinner_invites:\n",
        "  print ( \"Hello \" + (i) + \", you are invited to the dinner.\")\n",
        "dinner_invites_who_cant_make_it = \"Ram\"\n",
        "print(\"\\nUnfortunately, \" + dinner_invites_who_cant_make_it + \" can't make it to dinner.\")\n",
        "# Ram could not make it to the dinner so Aryan is invited instead.\n",
        "dinner_invites [0]=\"Aryan\"\n",
        "#New updated invites\n",
        "print('\\nNew updated invites')\n",
        "for i in dinner_invites:\n",
        "\n",
        "  print (  \"Hello \" + (i) + \", you are invited to the dinner.\")\n"
      ],
      "metadata": {
        "colab": {
          "base_uri": "https://localhost:8080/"
        },
        "id": "rZ2zLCky0zS3",
        "outputId": "c085a1c2-f4c2-4f71-9b5d-40f7bbb53bf0"
      },
      "execution_count": 43,
      "outputs": [
        {
          "output_type": "stream",
          "name": "stdout",
          "text": [
            "Hello Ram, you are invited to the dinner.\n",
            "Hello Shyam, you are invited to the dinner.\n",
            "Hello Sam, you are invited to the dinner.\n",
            "Hello Chico, you are invited to the dinner.\n",
            "\n",
            "Unfortunately, Ram can't make it to dinner.\n",
            "\n",
            "New updated invites\n",
            "Hello Aryan, you are invited to the dinner.\n",
            "Hello Shyam, you are invited to the dinner.\n",
            "Hello Sam, you are invited to the dinner.\n",
            "Hello Chico, you are invited to the dinner.\n"
          ]
        }
      ]
    },
    {
      "cell_type": "code",
      "source": [
        "#TIY 3-6\n",
        "dinner_invites = [\"Ram\",\"Shyam\",\"Sam\",\"Chico\"]\n",
        "for i in dinner_invites:\n",
        "  print ( \"Hello \" + (i) + \", you are invited to the dinner.\")\n",
        "  # Inform guests about the bigger dinner table\n",
        "print(\"\\nGreat news! We found a bigger dinner table.\")\n",
        "dinner_invites.insert(0, \"Zara\")\n",
        "dinner_invites.insert(len(dinner_invites) // 2, \"Max\")\n",
        "dinner_invites.append(\"Luna\")\n",
        "print('\\nNew updated invites:')\n",
        "for guest in dinner_invites:\n",
        "    print(\"Hello \" + guest + \", you are invited to the dinner.\")\n",
        "\n",
        "\n",
        "\n",
        "\n"
      ],
      "metadata": {
        "colab": {
          "base_uri": "https://localhost:8080/"
        },
        "id": "E0tfjT7w5a4-",
        "outputId": "c3eeaffe-a276-47fd-e2f9-43e915bebe30"
      },
      "execution_count": 15,
      "outputs": [
        {
          "output_type": "stream",
          "name": "stdout",
          "text": [
            "Hello Ram, you are invited to the dinner.\n",
            "Hello Shyam, you are invited to the dinner.\n",
            "Hello Sam, you are invited to the dinner.\n",
            "Hello Chico, you are invited to the dinner.\n",
            "\n",
            "Great news! We found a bigger dinner table.\n",
            "\n",
            "New updated invites:\n",
            "Hello Zara, you are invited to the dinner.\n",
            "Hello Ram, you are invited to the dinner.\n",
            "Hello Max, you are invited to the dinner.\n",
            "Hello Shyam, you are invited to the dinner.\n",
            "Hello Sam, you are invited to the dinner.\n",
            "Hello Chico, you are invited to the dinner.\n",
            "Hello Luna, you are invited to the dinner.\n"
          ]
        }
      ]
    },
    {
      "cell_type": "code",
      "source": [
        "#TIY 3-7\n",
        "dinner_invites = [\"Ram\", \"Shyam\", \"Sam\", \"Chico\",\"Zara\", \"Luna\", \"Max\"]\n",
        "for guest in dinner_invites:\n",
        "    print(\"Hello \" + guest + \", you are invited to the dinner.\")\n",
        "\n",
        "print(\"\\nSorry, the new dinner table won't arrive in time. I can only invite two people for dinner.\")\n",
        "\n",
        "# Remove guests from the list until only two names remain\n",
        "while len(dinner_invites) > 2:\n",
        "    removed_guest = dinner_invites.pop()\n",
        "    print(\"Sorry, \" + removed_guest + \", I can't invite you to dinner.\")\n",
        "for remaining_guest in dinner_invites:\n",
        "    print(\"Hello \" + remaining_guest + \", you're still invited to dinner.\")\n",
        "del dinner_invites[:]\n",
        "print(\"\\nAfter removing the last two names, the list is now empty:\", dinner_invites)\n"
      ],
      "metadata": {
        "colab": {
          "base_uri": "https://localhost:8080/"
        },
        "id": "tCUa-41I2nPB",
        "outputId": "3185a374-da3f-465e-f42a-dc77ee277278"
      },
      "execution_count": 24,
      "outputs": [
        {
          "output_type": "stream",
          "name": "stdout",
          "text": [
            "Hello Ram, you are invited to the dinner.\n",
            "Hello Shyam, you are invited to the dinner.\n",
            "Hello Sam, you are invited to the dinner.\n",
            "Hello Chico, you are invited to the dinner.\n",
            "Hello Zara, you are invited to the dinner.\n",
            "Hello Luna, you are invited to the dinner.\n",
            "Hello Max, you are invited to the dinner.\n",
            "\n",
            "Sorry, the new dinner table won't arrive in time. I can only invite two people for dinner.\n",
            "Sorry, Max, I can't invite you to dinner.\n",
            "Sorry, Luna, I can't invite you to dinner.\n",
            "Sorry, Zara, I can't invite you to dinner.\n",
            "Sorry, Chico, I can't invite you to dinner.\n",
            "Sorry, Sam, I can't invite you to dinner.\n",
            "Hello Ram, you're still invited to dinner.\n",
            "Hello Shyam, you're still invited to dinner.\n",
            "\n",
            "After removing the last two names, the list is now empty: []\n"
          ]
        }
      ]
    },
    {
      "cell_type": "code",
      "source": [
        "#TIY 3-8\n",
        "places_to_visit = [\"Greece\", \"Australia\", \"Japan\", \"Thailand\", \"Norway\"]\n",
        "print(\"Original order:\", places_to_visit)\n",
        "print(\"Alphabetical order:\", sorted(places_to_visit))\n",
        "print(\"Original order:\", places_to_visit)\n",
        "print(\"Reverse alphabetical order:\", sorted(places_to_visit, reverse=True))\n",
        "print(\"Original order:\", places_to_visit)\n",
        "places_to_visit.reverse()\n",
        "print(\"Reversed order:\", places_to_visit)\n",
        "places_to_visit.reverse()\n",
        "print(\"Back to original order:\", places_to_visit)\n",
        "places_to_visit.sort()\n",
        "print(\"Alphabetical order:\", places_to_visit)\n",
        "places_to_visit.sort(reverse=True)\n",
        "print(\"Reverse alphabetical order:\", places_to_visit)\n"
      ],
      "metadata": {
        "colab": {
          "base_uri": "https://localhost:8080/"
        },
        "id": "CXDC9F8g4kiG",
        "outputId": "a517a52f-f057-4319-8f7e-36b53d4d2ea2"
      },
      "execution_count": 31,
      "outputs": [
        {
          "output_type": "stream",
          "name": "stdout",
          "text": [
            "Original order: ['Greece', 'Australia', 'Japan', 'Thailand', 'Norway']\n",
            "Alphabetical order: ['Australia', 'Greece', 'Japan', 'Norway', 'Thailand']\n",
            "Original order: ['Greece', 'Australia', 'Japan', 'Thailand', 'Norway']\n",
            "Reverse alphabetical order: ['Thailand', 'Norway', 'Japan', 'Greece', 'Australia']\n",
            "Original order: ['Greece', 'Australia', 'Japan', 'Thailand', 'Norway']\n",
            "Reversed order: ['Norway', 'Thailand', 'Japan', 'Australia', 'Greece']\n",
            "Back to original order: ['Greece', 'Australia', 'Japan', 'Thailand', 'Norway']\n",
            "Alphabetical order: ['Australia', 'Greece', 'Japan', 'Norway', 'Thailand']\n",
            "Reverse alphabetical order: ['Thailand', 'Norway', 'Japan', 'Greece', 'Australia']\n"
          ]
        }
      ]
    },
    {
      "cell_type": "code",
      "source": [
        "#TIY 3-9\n",
        "dinner_invites = [\"Ram\", \"Shyam\", \"Sam\", \"Chico\"]\n",
        "\n",
        "# Print the number of people you are inviting to dinner using len()\n",
        "print(\"Number of people invited to dinner:\", len(dinner_invites))\n",
        "\n"
      ],
      "metadata": {
        "colab": {
          "base_uri": "https://localhost:8080/"
        },
        "id": "3Sav2Ovf67dw",
        "outputId": "8703594d-6b1d-4e07-cb51-a1926cd95c45"
      },
      "execution_count": 36,
      "outputs": [
        {
          "output_type": "stream",
          "name": "stdout",
          "text": [
            "Number of people invited to dinner: 4\n"
          ]
        }
      ]
    },
    {
      "cell_type": "code",
      "source": [
        "#TIY 3-10\n",
        "countries = [\"USA\", \"Canada\", \"Brazil\", \"France\", \"China\", \"India\"]\n",
        "\n",
        "print(\"Original list of countries:\", countries)\n",
        "\n",
        "print(\"Third country in the list:\", countries[2])\n",
        "\n",
        "countries[1] = \"United Kingdom\"\n",
        "print(\"Modified list of countries:\", countries)\n",
        "\n",
        "countries.append(\"Japan\")\n",
        "print(\"List after appending a country:\", countries)\n",
        "\n",
        "countries.insert(2, \"Germany\")\n",
        "print(\"List after inserting a country:\", countries)\n",
        "\n",
        "countries.remove(\"France\")\n",
        "print(\"List after removing a country:\", countries)\n",
        "\n",
        "removed_country = countries.pop(3)\n",
        "print(\"List after popping a country:\", countries)\n",
        "print(\"Removed country:\", removed_country)\n",
        "\n",
        "count_of_usa = countries.count(\"USA\")\n",
        "print(\"Number of occurrences of 'USA' in the list:\", count_of_usa)\n",
        "\n",
        "countries.sort()\n",
        "print(\"List sorted alphabetically:\", countries)\n",
        "\n",
        "countries.reverse()\n",
        "print(\"List reversed:\", countries)\n",
        "\n",
        "print(\"Number of countries:\", len(countries))\n",
        "\n",
        "countries.clear()\n",
        "print(\"List after clearing:\", countries)\n",
        "\n",
        "\n"
      ],
      "metadata": {
        "colab": {
          "base_uri": "https://localhost:8080/"
        },
        "id": "tuzQNVsv8igv",
        "outputId": "4c5df545-0de0-4175-cfc4-99fbceb3c405"
      },
      "execution_count": 37,
      "outputs": [
        {
          "output_type": "stream",
          "name": "stdout",
          "text": [
            "Original list of countries: ['USA', 'Canada', 'Brazil', 'France', 'China', 'India']\n",
            "Third country in the list: Brazil\n",
            "Modified list of countries: ['USA', 'United Kingdom', 'Brazil', 'France', 'China', 'India']\n",
            "List after appending a country: ['USA', 'United Kingdom', 'Brazil', 'France', 'China', 'India', 'Japan']\n",
            "List after inserting a country: ['USA', 'United Kingdom', 'Germany', 'Brazil', 'France', 'China', 'India', 'Japan']\n",
            "List after removing a country: ['USA', 'United Kingdom', 'Germany', 'Brazil', 'China', 'India', 'Japan']\n",
            "List after popping a country: ['USA', 'United Kingdom', 'Germany', 'China', 'India', 'Japan']\n",
            "Removed country: Brazil\n",
            "Number of occurrences of 'USA' in the list: 1\n",
            "List sorted alphabetically: ['China', 'Germany', 'India', 'Japan', 'USA', 'United Kingdom']\n",
            "List reversed: ['United Kingdom', 'USA', 'Japan', 'India', 'Germany', 'China']\n",
            "Number of countries: 6\n",
            "List after clearing: []\n"
          ]
        }
      ]
    },
    {
      "cell_type": "code",
      "source": [
        "#TIY 3-11\n",
        "numbers = [1, 2, 3, 4, 5]\n",
        "try:\n",
        "    print(numbers[10])\n",
        "except IndexError:\n",
        "    print(\"Index error: Index is out of range!\")\n",
        "print(numbers[0])\n"
      ],
      "metadata": {
        "colab": {
          "base_uri": "https://localhost:8080/"
        },
        "id": "8V9GFwNy9okU",
        "outputId": "1c76c196-bb4d-4bbb-a78f-ecd0c499d1f6"
      },
      "execution_count": 41,
      "outputs": [
        {
          "output_type": "stream",
          "name": "stdout",
          "text": [
            "Index error: Index is out of range!\n",
            "1\n"
          ]
        }
      ]
    }
  ]
}