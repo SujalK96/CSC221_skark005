{
  "nbformat": 4,
  "nbformat_minor": 0,
  "metadata": {
    "colab": {
      "provenance": [],
      "authorship_tag": "ABX9TyOqQqrsazSs/ekPILnMcQ+B",
      "include_colab_link": true
    },
    "kernelspec": {
      "name": "python3",
      "display_name": "Python 3"
    },
    "language_info": {
      "name": "python"
    }
  },
  "cells": [
    {
      "cell_type": "markdown",
      "metadata": {
        "id": "view-in-github",
        "colab_type": "text"
      },
      "source": [
        "<a href=\"https://colab.research.google.com/github/SujalK96/CSC221_skark005/blob/main/Quiz3.ipynb\" target=\"_parent\"><img src=\"https://colab.research.google.com/assets/colab-badge.svg\" alt=\"Open In Colab\"/></a>"
      ]
    },
    {
      "cell_type": "code",
      "execution_count": 55,
      "metadata": {
        "colab": {
          "base_uri": "https://localhost:8080/"
        },
        "id": "G5qFzTeQfZsh",
        "outputId": "0ca2c70d-fb13-4a0a-f91f-e6c386c6aef7"
      },
      "outputs": [
        {
          "output_type": "stream",
          "name": "stdout",
          "text": [
            "True\n"
          ]
        }
      ],
      "source": [
        "#any() function\n",
        "# It returns True if any element in the iterable is true.\n",
        "\n",
        "#Example:\n",
        "num_list = [0, 1, 2, 0]\n",
        "print(any(num_list))\n"
      ]
    },
    {
      "cell_type": "code",
      "source": [
        "#enumerate() function\n",
        "# It returns an enumerate object that yields pairs of index and value.\n",
        "\n",
        "# Example:\n",
        "my_list = ['Sujal', 'Karki', 'Plattsburgh']\n",
        "for index, value in enumerate(my_list):\n",
        "    print(f\"Index: {index}, Value: {value}\")\n"
      ],
      "metadata": {
        "colab": {
          "base_uri": "https://localhost:8080/"
        },
        "id": "D5E2N7xrkBHb",
        "outputId": "8597259f-6b4e-4e00-fcf4-1d196fa2aff2"
      },
      "execution_count": 54,
      "outputs": [
        {
          "output_type": "stream",
          "name": "stdout",
          "text": [
            "Index: 0, Value: Sujal\n",
            "Index: 1, Value: karki\n",
            "Index: 2, Value: Plattsburgh\n"
          ]
        }
      ]
    },
    {
      "cell_type": "code",
      "source": [
        "# float() function\n",
        "# It converts a string or a number to a floating-point number.\n",
        "\n",
        "# Example:\n",
        "num_str = \"3.14\"\n",
        "num_float = float(num_str)\n",
        "print(num_float)\n"
      ],
      "metadata": {
        "colab": {
          "base_uri": "https://localhost:8080/"
        },
        "id": "0NpRTvn5kBKC",
        "outputId": "034780c5-db6b-4c64-cc06-ed6f0c786fc6"
      },
      "execution_count": 7,
      "outputs": [
        {
          "output_type": "stream",
          "name": "stdout",
          "text": [
            "3.14\n"
          ]
        }
      ]
    },
    {
      "cell_type": "code",
      "source": [
        "# globals() function\n",
        "# It returns a dictionary representing the current global symbol table.\n",
        "\n",
        "# Example:\n",
        "global_var = 10\n",
        "\n",
        "def my_function():\n",
        "    local_var = 20\n",
        "    print(\"Global variables:\", globals())\n",
        "    print(\"Local variables:\", locals())\n",
        "\n",
        "my_function()\n"
      ],
      "metadata": {
        "colab": {
          "base_uri": "https://localhost:8080/"
        },
        "id": "ephus7FmkBM5",
        "outputId": "7677a18e-7569-4b11-bd86-286492a1eeb5"
      },
      "execution_count": 8,
      "outputs": [
        {
          "output_type": "stream",
          "name": "stdout",
          "text": [
            "Global variables: {'__name__': '__main__', '__doc__': 'Automatically created module for IPython interactive environment', '__package__': None, '__loader__': None, '__spec__': None, '__builtin__': <module 'builtins' (built-in)>, '__builtins__': <module 'builtins' (built-in)>, '_ih': ['', '# Illustrating the any() function\\n# It returns True if any element in the iterable is true.\\n\\n# Example:\\nmy_list = [False, False, True]\\nprint(any(my_list))  # Output: True', '# Illustrating the any() function\\n# It returns True if any element in the iterable is true.\\n\\n# Example 2: Using any() with a list of numbers\\nnum_list = [0, 1, 2, 0]\\nprint(any(num_list))   # Output: True (since 1 is True)', '# Illustrating the any() function\\n# It returns True if any element in the iterable is true.\\n\\n# Example 2: Using any() with a list of numbers\\nnum_list = [0, 1, 2, 0]\\nprint(any(num_list))   # Output: True (since 1 is True)', '# Illustrating the any() function\\n# It returns True if any element in the iterable is true.\\n\\n# Example 2: Using any() with a list of numbers\\nnum_list = [0, 1, 2, 0]\\nprint(any(num_list))   # Output: True (since 1 is True)', '# Illustrating the breakpoint() function\\n# It inserts a breakpoint in the code for debugging purposes.\\n\\n# Example:\\nx = 5\\ny = 10\\nbreakpoint()  # Execution will pause here for debugging\\nz = x + y\\nprint(z)  # This line will not be executed until debugging is complete', '# Illustrating the enumerate() function\\n# It returns an enumerate object that yields pairs of index and value.\\n\\n# Example:\\nmy_list = [\\'apple\\', \\'banana\\', \\'cherry\\']\\nfor index, value in enumerate(my_list):\\n    print(f\"Index: {index}, Value: {value}\")', '# Illustrating the float() function\\n# It converts a string or a number to a floating-point number.\\n\\n# Example:\\nnum_str = \"3.14\"\\nnum_float = float(num_str)\\nprint(num_float)  # Output: 3.14', '# Illustrating the globals() function\\n# It returns a dictionary representing the current global symbol table.\\n\\n# Example:\\nglobal_var = 10\\n\\ndef my_function():\\n    local_var = 20\\n    print(\"Global variables:\", globals())\\n    print(\"Local variables:\", locals())\\n\\nmy_function()'], '_oh': {}, '_dh': ['/content'], 'In': ['', '# Illustrating the any() function\\n# It returns True if any element in the iterable is true.\\n\\n# Example:\\nmy_list = [False, False, True]\\nprint(any(my_list))  # Output: True', '# Illustrating the any() function\\n# It returns True if any element in the iterable is true.\\n\\n# Example 2: Using any() with a list of numbers\\nnum_list = [0, 1, 2, 0]\\nprint(any(num_list))   # Output: True (since 1 is True)', '# Illustrating the any() function\\n# It returns True if any element in the iterable is true.\\n\\n# Example 2: Using any() with a list of numbers\\nnum_list = [0, 1, 2, 0]\\nprint(any(num_list))   # Output: True (since 1 is True)', '# Illustrating the any() function\\n# It returns True if any element in the iterable is true.\\n\\n# Example 2: Using any() with a list of numbers\\nnum_list = [0, 1, 2, 0]\\nprint(any(num_list))   # Output: True (since 1 is True)', '# Illustrating the breakpoint() function\\n# It inserts a breakpoint in the code for debugging purposes.\\n\\n# Example:\\nx = 5\\ny = 10\\nbreakpoint()  # Execution will pause here for debugging\\nz = x + y\\nprint(z)  # This line will not be executed until debugging is complete', '# Illustrating the enumerate() function\\n# It returns an enumerate object that yields pairs of index and value.\\n\\n# Example:\\nmy_list = [\\'apple\\', \\'banana\\', \\'cherry\\']\\nfor index, value in enumerate(my_list):\\n    print(f\"Index: {index}, Value: {value}\")', '# Illustrating the float() function\\n# It converts a string or a number to a floating-point number.\\n\\n# Example:\\nnum_str = \"3.14\"\\nnum_float = float(num_str)\\nprint(num_float)  # Output: 3.14', '# Illustrating the globals() function\\n# It returns a dictionary representing the current global symbol table.\\n\\n# Example:\\nglobal_var = 10\\n\\ndef my_function():\\n    local_var = 20\\n    print(\"Global variables:\", globals())\\n    print(\"Local variables:\", locals())\\n\\nmy_function()'], 'Out': {}, 'get_ipython': <bound method InteractiveShell.get_ipython of <google.colab._shell.Shell object at 0x78aac85d37f0>>, 'exit': <IPython.core.autocall.ZMQExitAutocall object at 0x78aac85d3d90>, 'quit': <IPython.core.autocall.ZMQExitAutocall object at 0x78aac85d3d90>, '_': '', '__': '', '___': '', '_i': '# Illustrating the float() function\\n# It converts a string or a number to a floating-point number.\\n\\n# Example:\\nnum_str = \"3.14\"\\nnum_float = float(num_str)\\nprint(num_float)  # Output: 3.14', '_ii': '# Illustrating the enumerate() function\\n# It returns an enumerate object that yields pairs of index and value.\\n\\n# Example:\\nmy_list = [\\'apple\\', \\'banana\\', \\'cherry\\']\\nfor index, value in enumerate(my_list):\\n    print(f\"Index: {index}, Value: {value}\")', '_iii': '# Illustrating the breakpoint() function\\n# It inserts a breakpoint in the code for debugging purposes.\\n\\n# Example:\\nx = 5\\ny = 10\\nbreakpoint()  # Execution will pause here for debugging\\nz = x + y\\nprint(z)  # This line will not be executed until debugging is complete', '_i1': '# Illustrating the any() function\\n# It returns True if any element in the iterable is true.\\n\\n# Example:\\nmy_list = [False, False, True]\\nprint(any(my_list))  # Output: True', 'my_list': ['apple', 'banana', 'cherry'], '_i2': '# Illustrating the any() function\\n# It returns True if any element in the iterable is true.\\n\\n# Example 2: Using any() with a list of numbers\\nnum_list = [0, 1, 2, 0]\\nprint(any(num_list))   # Output: True (since 1 is True)', 'num_list': [0, 1, 2, 0], '_i3': '# Illustrating the any() function\\n# It returns True if any element in the iterable is true.\\n\\n# Example 2: Using any() with a list of numbers\\nnum_list = [0, 1, 2, 0]\\nprint(any(num_list))   # Output: True (since 1 is True)', '_i4': '# Illustrating the any() function\\n# It returns True if any element in the iterable is true.\\n\\n# Example 2: Using any() with a list of numbers\\nnum_list = [0, 1, 2, 0]\\nprint(any(num_list))   # Output: True (since 1 is True)', '_i5': '# Illustrating the breakpoint() function\\n# It inserts a breakpoint in the code for debugging purposes.\\n\\n# Example:\\nx = 5\\ny = 10\\nbreakpoint()  # Execution will pause here for debugging\\nz = x + y\\nprint(z)  # This line will not be executed until debugging is complete', 'x': 5, 'y': 10, '__return__': None, 'z': 15, '_i6': '# Illustrating the enumerate() function\\n# It returns an enumerate object that yields pairs of index and value.\\n\\n# Example:\\nmy_list = [\\'apple\\', \\'banana\\', \\'cherry\\']\\nfor index, value in enumerate(my_list):\\n    print(f\"Index: {index}, Value: {value}\")', 'index': 2, 'value': 'cherry', '_i7': '# Illustrating the float() function\\n# It converts a string or a number to a floating-point number.\\n\\n# Example:\\nnum_str = \"3.14\"\\nnum_float = float(num_str)\\nprint(num_float)  # Output: 3.14', 'num_str': '3.14', 'num_float': 3.14, '_i8': '# Illustrating the globals() function\\n# It returns a dictionary representing the current global symbol table.\\n\\n# Example:\\nglobal_var = 10\\n\\ndef my_function():\\n    local_var = 20\\n    print(\"Global variables:\", globals())\\n    print(\"Local variables:\", locals())\\n\\nmy_function()', 'global_var': 10, 'my_function': <function my_function at 0x78aab41540d0>}\n",
            "Local variables: {'local_var': 20}\n"
          ]
        }
      ]
    },
    {
      "cell_type": "code",
      "source": [
        "# input() function\n",
        "# It reads a line from input, converts it to a string, and returns it.\n",
        "\n",
        "# Example:\n",
        "user_input = input(\"Enter your name: \")\n",
        "print(\"Hello, \" + user_input)\n"
      ],
      "metadata": {
        "colab": {
          "base_uri": "https://localhost:8080/"
        },
        "id": "EFfyDBcEkBPf",
        "outputId": "fad47e0d-bfef-4760-fb27-d77a016eaf4e"
      },
      "execution_count": 9,
      "outputs": [
        {
          "output_type": "stream",
          "name": "stdout",
          "text": [
            "Enter your name: sujal\n",
            "Hello, sujal\n"
          ]
        }
      ]
    },
    {
      "cell_type": "code",
      "source": [
        "#int() function\n",
        "# It converts a string or a number to an integer.\n",
        "\n",
        "# Example:\n",
        "num_str = \"10\"\n",
        "num_int = int(num_str)\n",
        "print(num_int)\n"
      ],
      "metadata": {
        "colab": {
          "base_uri": "https://localhost:8080/"
        },
        "id": "kytpdz-ckBSG",
        "outputId": "8ecea531-f98f-4187-bc01-fdd830ae0235"
      },
      "execution_count": 10,
      "outputs": [
        {
          "output_type": "stream",
          "name": "stdout",
          "text": [
            "10\n"
          ]
        }
      ]
    },
    {
      "cell_type": "code",
      "source": [
        "#len() function\n",
        "# It returns the length of an object.\n",
        "\n",
        "# Example:\n",
        "my_list = [1, 2, 3, 4, 5]\n",
        "length = len(my_list)\n",
        "print(length)\n"
      ],
      "metadata": {
        "colab": {
          "base_uri": "https://localhost:8080/"
        },
        "id": "ZuIrRMJzkBUt",
        "outputId": "2b5fa572-fad2-4219-d55e-72f97fc06603"
      },
      "execution_count": 11,
      "outputs": [
        {
          "output_type": "stream",
          "name": "stdout",
          "text": [
            "5\n"
          ]
        }
      ]
    },
    {
      "cell_type": "code",
      "source": [
        "#list() function\n",
        "# It creates a list from an iterable.\n",
        "\n",
        "# Example:\n",
        "my_tuple = (1, 2, 3)\n",
        "my_list = list(my_tuple)\n",
        "print(my_list)\n"
      ],
      "metadata": {
        "colab": {
          "base_uri": "https://localhost:8080/"
        },
        "id": "fU1Dlr-LkBXD",
        "outputId": "7ec1a87c-b55d-412c-baf9-2a2ec89b223e"
      },
      "execution_count": 12,
      "outputs": [
        {
          "output_type": "stream",
          "name": "stdout",
          "text": [
            "[1, 2, 3]\n"
          ]
        }
      ]
    },
    {
      "cell_type": "code",
      "source": [
        "#locals() function\n",
        "# It returns a dictionary representing the current local symbol table.\n",
        "\n",
        "# Example:\n",
        "def my_function():\n",
        "    local_var = 10\n",
        "    print(locals())\n",
        "\n",
        "my_function()\n"
      ],
      "metadata": {
        "colab": {
          "base_uri": "https://localhost:8080/"
        },
        "id": "kUTqMo-zkBZs",
        "outputId": "b32b3a8f-53e2-4e0f-af3f-6741bbd44fe3"
      },
      "execution_count": 13,
      "outputs": [
        {
          "output_type": "stream",
          "name": "stdout",
          "text": [
            "{'local_var': 10}\n"
          ]
        }
      ]
    },
    {
      "cell_type": "code",
      "source": [
        "#print() function\n",
        "# It prints objects to the text stream file, separated by sep.\n",
        "\n",
        "# Example:\n",
        "name = \"Sujal\"\n",
        "age = 19\n",
        "print(\"Name:\", name, \"Age:\", age)\n"
      ],
      "metadata": {
        "colab": {
          "base_uri": "https://localhost:8080/"
        },
        "id": "hcONFvirkBcS",
        "outputId": "05bbcd2b-e707-43f7-bf59-b3f2381f4572"
      },
      "execution_count": 53,
      "outputs": [
        {
          "output_type": "stream",
          "name": "stdout",
          "text": [
            "Name: Sujal Age: 19\n"
          ]
        }
      ]
    },
    {
      "cell_type": "code",
      "source": [
        "#range() function\n",
        "# It returns a sequence of numbers, starting from 0 by default, and increments by 1 (by default), and stops before a specified number.\n",
        "\n",
        "# Example:\n",
        "my_range = range(5)\n",
        "for num in my_range:\n",
        "    print(num)\n"
      ],
      "metadata": {
        "colab": {
          "base_uri": "https://localhost:8080/"
        },
        "id": "L9XMCvXdkBe3",
        "outputId": "9d40a17f-b3e3-4156-f471-f5411d07d279"
      },
      "execution_count": 15,
      "outputs": [
        {
          "output_type": "stream",
          "name": "stdout",
          "text": [
            "0\n",
            "1\n",
            "2\n",
            "3\n",
            "4\n"
          ]
        }
      ]
    },
    {
      "cell_type": "code",
      "source": [
        "#sum() function\n",
        "# It returns the sum of all elements in an iterable.\n",
        "\n",
        "# Example:\n",
        "my_list = [1, 2, 3, 4, 5]\n",
        "total = sum(my_list)\n",
        "print(total)\n"
      ],
      "metadata": {
        "colab": {
          "base_uri": "https://localhost:8080/"
        },
        "id": "m1Rj8XTSkBhR",
        "outputId": "8b66b9a9-f3ee-4097-a534-1e1177930a31"
      },
      "execution_count": 52,
      "outputs": [
        {
          "output_type": "stream",
          "name": "stdout",
          "text": [
            "15\n"
          ]
        }
      ]
    },
    {
      "cell_type": "code",
      "source": [
        "#sorted() function\n",
        "# It returns a new sorted list from the elements of any iterable.\n",
        "\n",
        "# Example:\n",
        "my_list = [\"Karki\",\"SUNY\",\"Dr. Lecky\"]\n",
        "sorted_list = sorted(my_list)\n",
        "print(sorted_list)\n"
      ],
      "metadata": {
        "colab": {
          "base_uri": "https://localhost:8080/"
        },
        "id": "mhKgok8ukBma",
        "outputId": "28eb0025-5363-4d53-abee-40b7f4defc4c"
      },
      "execution_count": 51,
      "outputs": [
        {
          "output_type": "stream",
          "name": "stdout",
          "text": [
            "['Dr. Lecky', 'Karki', 'SUNY']\n"
          ]
        }
      ]
    },
    {
      "cell_type": "code",
      "source": [
        "#round() function\n",
        "# It rounds a floating-point number to a specified number of decimal places.\n",
        "\n",
        "# Example:\n",
        "num = 3.14159\n",
        "rounded_num = round(num, 2)\n",
        "print(rounded_num)\n"
      ],
      "metadata": {
        "colab": {
          "base_uri": "https://localhost:8080/"
        },
        "id": "skOGaZr9kBo1",
        "outputId": "bdab25ad-a553-4ace-a25c-1c5926f089d6"
      },
      "execution_count": 19,
      "outputs": [
        {
          "output_type": "stream",
          "name": "stdout",
          "text": [
            "3.14\n"
          ]
        }
      ]
    },
    {
      "cell_type": "code",
      "source": [
        "#str() function\n",
        "# It returns a string representation of an object.\n",
        "\n",
        "# Example:\n",
        "num = 123\n",
        "str_num = str(num)\n",
        "print(str_num)\n"
      ],
      "metadata": {
        "colab": {
          "base_uri": "https://localhost:8080/"
        },
        "id": "_cYhgrl3kBrW",
        "outputId": "c6ae206f-e6e3-410c-91db-abefe48b578e"
      },
      "execution_count": 48,
      "outputs": [
        {
          "output_type": "stream",
          "name": "stdout",
          "text": [
            "123\n"
          ]
        }
      ]
    },
    {
      "cell_type": "code",
      "source": [
        "#type() function\n",
        "# It returns the type of an object.\n",
        "\n",
        "# Example:\n",
        "my_var = 10\n",
        "print(type(my_var))\n"
      ],
      "metadata": {
        "colab": {
          "base_uri": "https://localhost:8080/"
        },
        "id": "Q_fkTRfLkBt9",
        "outputId": "ff33a933-808e-4be8-aee1-7e7fc8ea22c3"
      },
      "execution_count": 21,
      "outputs": [
        {
          "output_type": "stream",
          "name": "stdout",
          "text": [
            "<class 'int'>\n"
          ]
        }
      ]
    },
    {
      "cell_type": "code",
      "source": [
        "#id() function\n",
        "# It returns the identity of an object.\n",
        "\n",
        "# Example:\n",
        "x = 42\n",
        "print(id(x))\n"
      ],
      "metadata": {
        "colab": {
          "base_uri": "https://localhost:8080/"
        },
        "id": "DrgbJWmakBy6",
        "outputId": "d5a6e94e-7500-4c72-82a9-54982d869a6e"
      },
      "execution_count": 39,
      "outputs": [
        {
          "output_type": "stream",
          "name": "stdout",
          "text": [
            "132675042297360\n"
          ]
        }
      ]
    },
    {
      "cell_type": "code",
      "source": [
        "#format() function\n",
        "# It formats a specified value into a specified format.\n",
        "\n",
        "# Example:\n",
        "name = \"Sujal\"\n",
        "age = 19\n",
        "formatted_string = \"My name is {} and I am {} years old.\".format(name, age)\n",
        "print(formatted_string)"
      ],
      "metadata": {
        "colab": {
          "base_uri": "https://localhost:8080/"
        },
        "id": "fY77_Lf5kB1R",
        "outputId": "401e1f6f-9cca-4346-a882-6fd30792b0fa"
      },
      "execution_count": 32,
      "outputs": [
        {
          "output_type": "stream",
          "name": "stdout",
          "text": [
            "My name is Sujal and I am 19 years old.\n"
          ]
        }
      ]
    },
    {
      "cell_type": "code",
      "source": [
        "#help() function\n",
        "# It invokes the built-in help system.\n",
        "\n",
        "# Example:\n",
        "help(len)\n"
      ],
      "metadata": {
        "colab": {
          "base_uri": "https://localhost:8080/"
        },
        "id": "3-Fv7D5NkB33",
        "outputId": "a64c246f-c750-4031-b330-bf805278e61e"
      },
      "execution_count": 26,
      "outputs": [
        {
          "output_type": "stream",
          "name": "stdout",
          "text": [
            "Help on built-in function len in module builtins:\n",
            "\n",
            "len(obj, /)\n",
            "    Return the number of items in a container.\n",
            "\n"
          ]
        }
      ]
    },
    {
      "cell_type": "code",
      "source": [
        "#next() function\n",
        "# It retrieves the next item from an iterator.\n",
        "\n",
        "# Example:\n",
        "my_list = iter([\"Sujal\",\"Dr.\",\"Ned\"])\n",
        "print(next(my_list))\n",
        "print(next(my_list))\n",
        "print(next(my_list))\n"
      ],
      "metadata": {
        "colab": {
          "base_uri": "https://localhost:8080/"
        },
        "id": "NNR66Z3xkB6c",
        "outputId": "3c86d354-4ef8-4e2f-b69e-056484382605"
      },
      "execution_count": 45,
      "outputs": [
        {
          "output_type": "stream",
          "name": "stdout",
          "text": [
            "Sujal\n",
            "Dr.\n",
            "Ned\n"
          ]
        }
      ]
    },
    {
      "cell_type": "code",
      "source": [
        "#eval() function\n",
        "# It evaluates a Python expression from a string and returns the result.\n",
        "\n",
        "# Example:\n",
        "x = 10\n",
        "y = 20\n",
        "expression = \"x + y\"\n",
        "result = eval(expression)\n",
        "print(result)\n"
      ],
      "metadata": {
        "colab": {
          "base_uri": "https://localhost:8080/"
        },
        "id": "Rq7N9J7LkB81",
        "outputId": "847cf72a-2e7e-408b-f832-e651a4136df7"
      },
      "execution_count": 43,
      "outputs": [
        {
          "output_type": "stream",
          "name": "stdout",
          "text": [
            "30\n"
          ]
        }
      ]
    },
    {
      "cell_type": "code",
      "source": [
        "#vars() function\n",
        "# It returns the __dict__ attribute of an object.\n",
        "\n",
        "# Example:\n",
        "class MyClass:\n",
        "    def __init__(self):\n",
        "        self.x = 10\n",
        "        self.y = 20\n",
        "\n",
        "obj = MyClass()\n",
        "attributes = vars(obj)\n",
        "print(attributes)\n"
      ],
      "metadata": {
        "colab": {
          "base_uri": "https://localhost:8080/"
        },
        "id": "kyXKFIKrkCAS",
        "outputId": "057ca774-ff62-480c-d5e4-7205f1c4fda5"
      },
      "execution_count": 42,
      "outputs": [
        {
          "output_type": "stream",
          "name": "stdout",
          "text": [
            "{'x': 10, 'y': 20}\n"
          ]
        }
      ]
    },
    {
      "cell_type": "code",
      "source": [
        "#all() function\n",
        "# It returns True if all elements of the iterable are true.\n",
        "\n",
        "# Example:\n",
        "my_list = [True, True, True]\n",
        "print(all(my_list))\n",
        "\n",
        "my_list = [True, False, True]\n",
        "print(all(my_list))\n"
      ],
      "metadata": {
        "colab": {
          "base_uri": "https://localhost:8080/"
        },
        "id": "1SaidnDsowfL",
        "outputId": "8eaef281-787e-4d09-b82c-05e1a6cb9200"
      },
      "execution_count": 41,
      "outputs": [
        {
          "output_type": "stream",
          "name": "stdout",
          "text": [
            "True\n",
            "False\n"
          ]
        }
      ]
    }
  ]
}