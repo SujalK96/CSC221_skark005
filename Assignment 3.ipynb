{
  "nbformat": 4,
  "nbformat_minor": 0,
  "metadata": {
    "colab": {
      "provenance": [],
      "authorship_tag": "ABX9TyMuPvQGO8YYoNS48EIl8X8K",
      "include_colab_link": true
    },
    "kernelspec": {
      "name": "python3",
      "display_name": "Python 3"
    },
    "language_info": {
      "name": "python"
    }
  },
  "cells": [
    {
      "cell_type": "markdown",
      "metadata": {
        "id": "view-in-github",
        "colab_type": "text"
      },
      "source": [
        "<a href=\"https://colab.research.google.com/github/SujalK96/CSC221_skark005/blob/main/Assignment%203.ipynb\" target=\"_parent\"><img src=\"https://colab.research.google.com/assets/colab-badge.svg\" alt=\"Open In Colab\"/></a>"
      ]
    },
    {
      "cell_type": "code",
      "execution_count": 1,
      "metadata": {
        "colab": {
          "base_uri": "https://localhost:8080/"
        },
        "id": "pI6RFFCQ9wiT",
        "outputId": "ddad833c-50ae-4210-c9ab-d784478370c7"
      },
      "outputs": [
        {
          "output_type": "stream",
          "name": "stdout",
          "text": [
            "I am from Nepal\n"
          ]
        }
      ],
      "source": [
        "#TIY 2-1\n",
        "sujal = \"I am from Nepal\"\n",
        "print(sujal)\n"
      ]
    },
    {
      "cell_type": "code",
      "source": [
        "#TIY 2-2\n",
        "apple = \"This is my favorite fruit\"\n",
        "print(apple)\n",
        "apple = \" This is the cellphone brand that I use\"\n",
        "print(apple)"
      ],
      "metadata": {
        "colab": {
          "base_uri": "https://localhost:8080/"
        },
        "id": "QarMdEXc-ExT",
        "outputId": "352780be-f375-4397-cf09-87d8eaf26145"
      },
      "execution_count": 2,
      "outputs": [
        {
          "output_type": "stream",
          "name": "stdout",
          "text": [
            "This is my favorite fruit\n",
            " This is the cellphone brand that I use\n"
          ]
        }
      ]
    },
    {
      "cell_type": "markdown",
      "source": [],
      "metadata": {
        "id": "e0pJ-JV3--UF"
      }
    },
    {
      "cell_type": "code",
      "source": [
        "#TIY 2-3\n",
        "name = \"Sujal\"\n",
        "print(f\"My name is {name}\")"
      ],
      "metadata": {
        "colab": {
          "base_uri": "https://localhost:8080/"
        },
        "id": "XpYoXb0l-u7T",
        "outputId": "fa4c8439-4855-4923-a087-d7d3bf5e9874"
      },
      "execution_count": 3,
      "outputs": [
        {
          "output_type": "stream",
          "name": "stdout",
          "text": [
            "My name is Sujal\n"
          ]
        }
      ]
    },
    {
      "cell_type": "code",
      "source": [
        "#TIY 2-4\n",
        "first_name = \"sujal\"\n",
        "last_name = \"karki\"\n",
        "print(f\"{first_name.upper()} {last_name.upper()}\")\n",
        "print(f\"{first_name.lower()} {last_name.lower()}\")\n",
        "full_name = f\"{first_name} {last_name}\"\n",
        "print(f\"my name is {full_name.title()}\")"
      ],
      "metadata": {
        "colab": {
          "base_uri": "https://localhost:8080/"
        },
        "id": "YVd7H0u8_a9L",
        "outputId": "f5cb0376-92ef-496a-e169-4f26e027e382"
      },
      "execution_count": 8,
      "outputs": [
        {
          "output_type": "stream",
          "name": "stdout",
          "text": [
            "SUJAL KARKI\n",
            "sujal karki\n",
            "my name is Sujal Karki\n"
          ]
        }
      ]
    },
    {
      "cell_type": "code",
      "source": [],
      "metadata": {
        "id": "OstNxnxuDe4M"
      },
      "execution_count": null,
      "outputs": []
    },
    {
      "cell_type": "code",
      "source": [
        "#TIY 2-5\n",
        "author=\"Steve Jobs\"\n",
        "quote =\"Our time is limited, so don't waste it living someone else's life.\"\n",
        "print(f'{author} once said, \"{quote}\" ')"
      ],
      "metadata": {
        "colab": {
          "base_uri": "https://localhost:8080/"
        },
        "id": "9dt4TkpLAsXi",
        "outputId": "e7233973-6e6e-44ba-9af9-9c6c1aaaad1d"
      },
      "execution_count": 17,
      "outputs": [
        {
          "output_type": "stream",
          "name": "stdout",
          "text": [
            "Steve Jobs once said, \"Our time is limited, so don't waste it living someone else's life.\" \n"
          ]
        }
      ]
    },
    {
      "cell_type": "code",
      "source": [],
      "metadata": {
        "id": "HLUgYDuqCj7T"
      },
      "execution_count": null,
      "outputs": []
    },
    {
      "cell_type": "code",
      "source": [
        "#TIY 2-6\n",
        "famous_person =\"Bill Gates\"\n",
        "quote= \"It's fine to celebrate success, but it is more important to heed the lessons of failure.\"\n",
        "message = f'{famous_person} once said, \"{quote}\" '\n",
        "print(message)"
      ],
      "metadata": {
        "colab": {
          "base_uri": "https://localhost:8080/"
        },
        "id": "cL5BAotlC1oF",
        "outputId": "12a2f0d6-e9d1-46a5-ad57-30c2b89042f0"
      },
      "execution_count": 18,
      "outputs": [
        {
          "output_type": "stream",
          "name": "stdout",
          "text": [
            "Bill Gates once said, \"It's fine to celebrate success, but it is more important to heed the lessons of failure.\" \n"
          ]
        }
      ]
    },
    {
      "cell_type": "code",
      "source": [
        "#TIY 2-7\n",
        "name1=\" \\t\\n   Sujal Karki   \\t\\n\"\n",
        "print(name1)\n",
        "print(name1.strip())\n",
        "print(name1.rstrip())\n",
        "print(name1.lstrip())"
      ],
      "metadata": {
        "colab": {
          "base_uri": "https://localhost:8080/"
        },
        "id": "uNW8incXDhqf",
        "outputId": "2afe41e5-b80f-4ffe-da63-e7e6995168db"
      },
      "execution_count": 31,
      "outputs": [
        {
          "output_type": "stream",
          "name": "stdout",
          "text": [
            " \t\n",
            "   Sujal KArki   \t\n",
            "\n",
            "Sujal KArki\n",
            " \t\n",
            "   Sujal KArki\n",
            "Sujal KArki   \t\n",
            "\n"
          ]
        }
      ]
    },
    {
      "cell_type": "code",
      "source": [
        "#TIY 2-8\n",
        "print(4+4)\n",
        "print(16-8)\n",
        "print(2*4)\n",
        "print(int(16/2))"
      ],
      "metadata": {
        "colab": {
          "base_uri": "https://localhost:8080/"
        },
        "id": "iSUHWoh4GaP5",
        "outputId": "ea23434f-b229-4487-89cc-b6cea1d90c41"
      },
      "execution_count": 33,
      "outputs": [
        {
          "output_type": "stream",
          "name": "stdout",
          "text": [
            "8\n",
            "8\n",
            "8\n",
            "8\n"
          ]
        }
      ]
    },
    {
      "cell_type": "code",
      "source": [
        "#TIY 2-9\n",
        "favorite_number= 7\n",
        "message = f\"My favorite number is {favorite_number}\"\n",
        "print(message)\n",
        "favorite_number= 7\n",
        "print(\"My favorite number is \" + str(favorite_number))"
      ],
      "metadata": {
        "colab": {
          "base_uri": "https://localhost:8080/"
        },
        "id": "H5cNPi2aG6MJ",
        "outputId": "86105d19-41e3-47ea-b00d-f04707997b49"
      },
      "execution_count": 38,
      "outputs": [
        {
          "output_type": "stream",
          "name": "stdout",
          "text": [
            "My favorite number is 7\n",
            "My favorite number is 7\n"
          ]
        }
      ]
    },
    {
      "cell_type": "code",
      "source": [
        "#TIY 2-10\n",
        "\n",
        "#program to store a favorite number in a variable and printing it with a message\n",
        "\n",
        "favorite_number= 7\n",
        "message = f\"My favorite number is {favorite_number}\"\n",
        "print(message)\n",
        "favorite_number= 7\n",
        "print(\"My favorite number is \" + str(favorite_number))\n",
        "\n",
        "#performing mathematical function to bring number 8 as a result\n",
        "print(4+4)\n",
        "print(16-8)\n",
        "print(2*4)\n",
        "print(int(16/2))\n",
        "\n",
        "\n",
        "\n",
        "\n",
        "\n",
        "\n"
      ],
      "metadata": {
        "colab": {
          "base_uri": "https://localhost:8080/"
        },
        "id": "AL_L_MclHlh2",
        "outputId": "5ac12953-0e80-46a2-9b21-d928fd963175"
      },
      "execution_count": 39,
      "outputs": [
        {
          "output_type": "stream",
          "name": "stdout",
          "text": [
            "My favorite number is 7\n",
            "My favorite number is 7\n",
            "8\n",
            "8\n",
            "8\n",
            "8\n"
          ]
        }
      ]
    }
  ]
}