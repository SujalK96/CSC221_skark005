{
  "nbformat": 4,
  "nbformat_minor": 0,
  "metadata": {
    "colab": {
      "provenance": [],
      "authorship_tag": "ABX9TyNHIU1rZll3ird8uK0rJvsi",
      "include_colab_link": true
    },
    "kernelspec": {
      "name": "python3",
      "display_name": "Python 3"
    },
    "language_info": {
      "name": "python"
    }
  },
  "cells": [
    {
      "cell_type": "markdown",
      "metadata": {
        "id": "view-in-github",
        "colab_type": "text"
      },
      "source": [
        "<a href=\"https://colab.research.google.com/github/SujalK96/CSC221_skark005/blob/main/Assignment8_.ipynb\" target=\"_parent\"><img src=\"https://colab.research.google.com/assets/colab-badge.svg\" alt=\"Open In Colab\"/></a>"
      ]
    },
    {
      "cell_type": "code",
      "execution_count": 1,
      "metadata": {
        "colab": {
          "base_uri": "https://localhost:8080/"
        },
        "id": "XcsE5sEUfWw5",
        "outputId": "ec561f17-f458-4005-ff84-2784ca8e0069"
      },
      "outputs": [
        {
          "output_type": "stream",
          "name": "stdout",
          "text": [
            "One of my favorite books is Five feet apart.\n"
          ]
        }
      ],
      "source": [
        "#TIY 8-2\n",
        "def favorite_book(title):\n",
        "    print(f\"One of my favorite book is {title}.\")\n",
        "\n",
        "# Call the function with a book title\n",
        "favorite_book(\"Five feet apart\")"
      ]
    },
    {
      "cell_type": "code",
      "source": [
        "#TIY 8-3\n",
        "def make_shirt(size, message):\n",
        "    print(f\"Shirt size: {size}, Messsage: {message}\")\n",
        "\n",
        "# Call the function using positional arguments\n",
        "make_shirt(\"Large\", \"Namaste\")\n",
        "\n",
        "# Call the function using keyword arguments\n",
        "make_shirt(size=\"Medium\", message=\"Bonjour\")"
      ],
      "metadata": {
        "colab": {
          "base_uri": "https://localhost:8080/"
        },
        "id": "1aOlx1Ayf1Sg",
        "outputId": "51f579ea-09c6-4013-c0bf-48c920e16df9"
      },
      "execution_count": 3,
      "outputs": [
        {
          "output_type": "stream",
          "name": "stdout",
          "text": [
            "Shirt size: Large, Messsage: Namaste\n",
            "Shirt size: Medium, Messsage: Bonjour\n"
          ]
        }
      ]
    },
    {
      "cell_type": "code",
      "source": [
        "#TIY 8-4\n",
        "def make_shirt(size = \"Large\", message = \"I love Python\"):\n",
        "    print(f\"Shirt size: {size}, Messsage: {message}\")\n",
        "\n",
        "# Make a large shirt with the default message\n",
        "make_shirt()\n",
        "\n",
        "# Make a medium shirt with the default message\n",
        "make_shirt(size = \"Medium\")\n",
        "\n",
        "# Make a custom-sized shirt with a different message\n",
        "make_shirt(size = \"Small\", message = \"Hola!\")\n",
        ""
      ],
      "metadata": {
        "colab": {
          "base_uri": "https://localhost:8080/"
        },
        "id": "NofG37MJgL1x",
        "outputId": "246674e1-8400-453f-9eb5-7d9d3683f464"
      },
      "execution_count": 8,
      "outputs": [
        {
          "output_type": "stream",
          "name": "stdout",
          "text": [
            "Shirt size: Large, Messsage: I love Python\n",
            "Shirt size: Medium, Messsage: I love Python\n",
            "Shirt size: Small, Messsage: Hola!\n"
          ]
        }
      ]
    },
    {
      "cell_type": "code",
      "source": [
        "import math\n",
        "\n",
        "def func8(a, b=math.pi, c=42):\n",
        "    \"\"\"Return the sum, product, and a sorted list of the input numbers.\"\"\"\n",
        "    numbers = [a, b, c]\n",
        "    numbers.sort()\n",
        "    return sum(numbers), math.prod(numbers), numbers\n",
        "\n",
        "# Test cases/ Example usage:\n",
        "print(func8(1, 2, 3))\n",
        "print(func8(5, 4))\n",
        "print(func8(1))\n",
        "\n"
      ],
      "metadata": {
        "colab": {
          "base_uri": "https://localhost:8080/"
        },
        "id": "tzd-OhnShkqr",
        "outputId": "3aaa5f99-6f44-467d-a77f-bc792ea8d799"
      },
      "execution_count": 11,
      "outputs": [
        {
          "output_type": "stream",
          "name": "stdout",
          "text": [
            "(6, 6, [1, 2, 3])\n",
            "(51, 840, [4, 5, 42])\n",
            "(46.1415926535898, 131.94689145077132, [1, 3.141592653589793, 42])\n"
          ]
        }
      ]
    },
    {
      "cell_type": "code",
      "source": [
        "#N0.2\n",
        "\n",
        "'''Function func8(a, b, c)\n",
        "    If c is not provided:\n",
        "        Set c to default value 42\n",
        "\n",
        "    Create a list nums containing a, b, and c\n",
        "\n",
        "    Sort the list nums in ascending order\n",
        "\n",
        "    Calculate the sum of the numbers in nums and store it in sum_nums\n",
        "\n",
        "    Calculate the product of the numbers in nums and store it in prod_nums\n",
        "\n",
        "    Return sum_nums, prod_nums, and nums'''\n",
        "\n",
        "\n",
        "def func8(a, b=None, c=42):\n",
        "    if b is None:\n",
        "        b = c\n",
        "        c = 42\n",
        "\n",
        "    # Create a list containing the input numbers\n",
        "    nums = [a, b, c]\n",
        "\n",
        "    # Sort the numbers in ascending order\n",
        "    nums.sort()\n",
        "\n",
        "    # Calculate the sum of the numbers\n",
        "    sum_nums = sum(nums)\n",
        "\n",
        "    # Calculate the product of the numbers\n",
        "    prod_nums = 1\n",
        "    for i in nums:\n",
        "        prod_nums *= i\n",
        "\n",
        "    # Return the sum, product, and sorted list of numbers\n",
        "    return sum_nums, prod_nums, nums\n",
        "\n",
        "# Test cases\n",
        "print(func8(1, 2, 3))\n",
        "print(func8(5, 4))\n",
        "print(func8(1))\n"
      ],
      "metadata": {
        "colab": {
          "base_uri": "https://localhost:8080/"
        },
        "id": "qeZ9LycTinFf",
        "outputId": "6d7e808c-ea29-41d8-8203-0350eb568969"
      },
      "execution_count": 26,
      "outputs": [
        {
          "output_type": "stream",
          "name": "stdout",
          "text": [
            "(6, 6, [1, 2, 3])\n",
            "(51, 840, [4, 5, 42])\n",
            "(85, 1764, [1, 42, 42])\n"
          ]
        }
      ]
    }
  ]
}